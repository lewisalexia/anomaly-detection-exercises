{
 "cells": [
  {
   "cell_type": "markdown",
   "id": "1ef25d3c-e245-4f74-99d6-335a053478ef",
   "metadata": {
    "tags": []
   },
   "source": [
    "# Clustering - DBSCAN"
   ]
  },
  {
   "cell_type": "code",
   "execution_count": 112,
   "id": "1f7f6a46-025b-4602-8cd6-0f043606422b",
   "metadata": {},
   "outputs": [],
   "source": [
    "import warnings\n",
    "warnings.filterwarnings(\"ignore\")\n",
    "\n",
    "import matplotlib.pyplot as plt\n",
    "import seaborn as sns\n",
    "import numpy as np\n",
    "import pandas as pd\n",
    "import os\n",
    "import itertools\n",
    "import env\n",
    "from sqlalchemy import text, create_engine\n",
    "\n",
    "# DBSCAN import\n",
    "from sklearn.cluster import DBSCAN\n",
    "\n",
    "# Scaler import\n",
    "from sklearn.preprocessing import MinMaxScaler\n"
   ]
  },
  {
   "cell_type": "markdown",
   "id": "9e1e7717-4509-412b-84c4-bfc9590db1b6",
   "metadata": {
    "tags": []
   },
   "source": [
    "# Use DBSCAN to detect anomalies in other products from the `customers` dataset. The database name is `grocery_db`.\n"
   ]
  },
  {
   "cell_type": "markdown",
   "id": "ae6968a1-815c-4f3b-b4b3-0b7cba5efbe5",
   "metadata": {},
   "source": [
    "## Get the Data "
   ]
  },
  {
   "cell_type": "code",
   "execution_count": 86,
   "id": "a19078a0-5ff8-4826-8658-ac7c7c6ed5b8",
   "metadata": {},
   "outputs": [],
   "source": [
    "# Customers dataset\n",
    "from env import host, user, password\n",
    "\n",
    "def get_connection_url(database, host=host, user=user, password=password):\n",
    "    return f'mysql+pymysql://{user}:{password}@{host}/{database}'"
   ]
  },
  {
   "cell_type": "code",
   "execution_count": 87,
   "id": "9aa78fd6-e352-488c-a316-3a4fd426b010",
   "metadata": {},
   "outputs": [
    {
     "data": {
      "text/html": [
       "<div>\n",
       "<style scoped>\n",
       "    .dataframe tbody tr th:only-of-type {\n",
       "        vertical-align: middle;\n",
       "    }\n",
       "\n",
       "    .dataframe tbody tr th {\n",
       "        vertical-align: top;\n",
       "    }\n",
       "\n",
       "    .dataframe thead th {\n",
       "        text-align: right;\n",
       "    }\n",
       "</style>\n",
       "<table border=\"1\" class=\"dataframe\">\n",
       "  <thead>\n",
       "    <tr style=\"text-align: right;\">\n",
       "      <th></th>\n",
       "      <th>Channel</th>\n",
       "      <th>Region</th>\n",
       "      <th>Fresh</th>\n",
       "      <th>Milk</th>\n",
       "      <th>Grocery</th>\n",
       "      <th>Frozen</th>\n",
       "      <th>Detergents_Paper</th>\n",
       "      <th>Delicassen</th>\n",
       "    </tr>\n",
       "    <tr>\n",
       "      <th>customer_id</th>\n",
       "      <th></th>\n",
       "      <th></th>\n",
       "      <th></th>\n",
       "      <th></th>\n",
       "      <th></th>\n",
       "      <th></th>\n",
       "      <th></th>\n",
       "      <th></th>\n",
       "    </tr>\n",
       "  </thead>\n",
       "  <tbody>\n",
       "    <tr>\n",
       "      <th>0</th>\n",
       "      <td>2</td>\n",
       "      <td>3</td>\n",
       "      <td>12669</td>\n",
       "      <td>9656</td>\n",
       "      <td>7561</td>\n",
       "      <td>214</td>\n",
       "      <td>2674</td>\n",
       "      <td>1338</td>\n",
       "    </tr>\n",
       "    <tr>\n",
       "      <th>1</th>\n",
       "      <td>2</td>\n",
       "      <td>3</td>\n",
       "      <td>7057</td>\n",
       "      <td>9810</td>\n",
       "      <td>9568</td>\n",
       "      <td>1762</td>\n",
       "      <td>3293</td>\n",
       "      <td>1776</td>\n",
       "    </tr>\n",
       "    <tr>\n",
       "      <th>2</th>\n",
       "      <td>2</td>\n",
       "      <td>3</td>\n",
       "      <td>6353</td>\n",
       "      <td>8808</td>\n",
       "      <td>7684</td>\n",
       "      <td>2405</td>\n",
       "      <td>3516</td>\n",
       "      <td>7844</td>\n",
       "    </tr>\n",
       "    <tr>\n",
       "      <th>3</th>\n",
       "      <td>1</td>\n",
       "      <td>3</td>\n",
       "      <td>13265</td>\n",
       "      <td>1196</td>\n",
       "      <td>4221</td>\n",
       "      <td>6404</td>\n",
       "      <td>507</td>\n",
       "      <td>1788</td>\n",
       "    </tr>\n",
       "    <tr>\n",
       "      <th>4</th>\n",
       "      <td>2</td>\n",
       "      <td>3</td>\n",
       "      <td>22615</td>\n",
       "      <td>5410</td>\n",
       "      <td>7198</td>\n",
       "      <td>3915</td>\n",
       "      <td>1777</td>\n",
       "      <td>5185</td>\n",
       "    </tr>\n",
       "  </tbody>\n",
       "</table>\n",
       "</div>"
      ],
      "text/plain": [
       "             Channel  Region  Fresh  Milk  Grocery  Frozen  Detergents_Paper  \\\n",
       "customer_id                                                                    \n",
       "0                  2       3  12669  9656     7561     214              2674   \n",
       "1                  2       3   7057  9810     9568    1762              3293   \n",
       "2                  2       3   6353  8808     7684    2405              3516   \n",
       "3                  1       3  13265  1196     4221    6404               507   \n",
       "4                  2       3  22615  5410     7198    3915              1777   \n",
       "\n",
       "             Delicassen  \n",
       "customer_id              \n",
       "0                  1338  \n",
       "1                  1776  \n",
       "2                  7844  \n",
       "3                  1788  \n",
       "4                  5185  "
      ]
     },
     "execution_count": 87,
     "metadata": {},
     "output_type": "execute_result"
    }
   ],
   "source": [
    "url = get_connection_url(\"grocery_db\")\n",
    "\n",
    "sql = \"\"\"\n",
    "select *\n",
    "from grocery_customers\n",
    "\"\"\"\n",
    "\n",
    "df = pd.read_sql(sql, url, index_col=\"customer_id\")\n",
    "df.head()"
   ]
  },
  {
   "cell_type": "markdown",
   "id": "a788fa44-ef9b-45ee-bdb1-8d647c8a2276",
   "metadata": {},
   "source": [
    "### Step 1. Cluster on features"
   ]
  },
  {
   "cell_type": "code",
   "execution_count": 88,
   "id": "50ac1e72-6e49-459e-9e4e-6f403766ecf1",
   "metadata": {},
   "outputs": [
    {
     "data": {
      "text/html": [
       "<div>\n",
       "<style scoped>\n",
       "    .dataframe tbody tr th:only-of-type {\n",
       "        vertical-align: middle;\n",
       "    }\n",
       "\n",
       "    .dataframe tbody tr th {\n",
       "        vertical-align: top;\n",
       "    }\n",
       "\n",
       "    .dataframe thead th {\n",
       "        text-align: right;\n",
       "    }\n",
       "</style>\n",
       "<table border=\"1\" class=\"dataframe\">\n",
       "  <thead>\n",
       "    <tr style=\"text-align: right;\">\n",
       "      <th></th>\n",
       "      <th>Frozen</th>\n",
       "      <th>Delicassen</th>\n",
       "      <th>Fresh</th>\n",
       "    </tr>\n",
       "    <tr>\n",
       "      <th>customer_id</th>\n",
       "      <th></th>\n",
       "      <th></th>\n",
       "      <th></th>\n",
       "    </tr>\n",
       "  </thead>\n",
       "  <tbody>\n",
       "    <tr>\n",
       "      <th>0</th>\n",
       "      <td>214</td>\n",
       "      <td>1338</td>\n",
       "      <td>12669</td>\n",
       "    </tr>\n",
       "    <tr>\n",
       "      <th>1</th>\n",
       "      <td>1762</td>\n",
       "      <td>1776</td>\n",
       "      <td>7057</td>\n",
       "    </tr>\n",
       "    <tr>\n",
       "      <th>2</th>\n",
       "      <td>2405</td>\n",
       "      <td>7844</td>\n",
       "      <td>6353</td>\n",
       "    </tr>\n",
       "    <tr>\n",
       "      <th>3</th>\n",
       "      <td>6404</td>\n",
       "      <td>1788</td>\n",
       "      <td>13265</td>\n",
       "    </tr>\n",
       "    <tr>\n",
       "      <th>4</th>\n",
       "      <td>3915</td>\n",
       "      <td>5185</td>\n",
       "      <td>22615</td>\n",
       "    </tr>\n",
       "  </tbody>\n",
       "</table>\n",
       "</div>"
      ],
      "text/plain": [
       "             Frozen  Delicassen  Fresh\n",
       "customer_id                           \n",
       "0               214        1338  12669\n",
       "1              1762        1776   7057\n",
       "2              2405        7844   6353\n",
       "3              6404        1788  13265\n",
       "4              3915        5185  22615"
      ]
     },
     "execution_count": 88,
     "metadata": {},
     "output_type": "execute_result"
    }
   ],
   "source": [
    "# Cluster on all or a selected subset of features\n",
    "frozen_deli_fresh = df[['Frozen','Delicassen','Fresh']]\n",
    "frozen_deli_fresh.head()"
   ]
  },
  {
   "cell_type": "markdown",
   "id": "616b7e75-1932-432e-abb1-8d282c19a238",
   "metadata": {},
   "source": [
    "### Step 2. Array and Float"
   ]
  },
  {
   "cell_type": "code",
   "execution_count": 89,
   "id": "39a90e67-eb4a-462e-8f12-4d2804ffd051",
   "metadata": {},
   "outputs": [
    {
     "name": "stdout",
     "output_type": "stream",
     "text": [
      "<class 'pandas.core.frame.DataFrame'>\n",
      "Int64Index: 440 entries, 0 to 439\n",
      "Data columns (total 3 columns):\n",
      " #   Column      Non-Null Count  Dtype\n",
      "---  ------      --------------  -----\n",
      " 0   Frozen      440 non-null    int64\n",
      " 1   Delicassen  440 non-null    int64\n",
      " 2   Fresh       440 non-null    int64\n",
      "dtypes: int64(3)\n",
      "memory usage: 13.8 KB\n"
     ]
    }
   ],
   "source": [
    "# checking dtypes\n",
    "frozen_deli_fresh.info()"
   ]
  },
  {
   "cell_type": "code",
   "execution_count": 90,
   "id": "4d2480f6-0084-41f6-9de7-5506c4741c26",
   "metadata": {},
   "outputs": [
    {
     "data": {
      "text/plain": [
       "Frozen          214\n",
       "Delicassen     1338\n",
       "Fresh         12669\n",
       "Name: 0, dtype: int64"
      ]
     },
     "execution_count": 90,
     "metadata": {},
     "output_type": "execute_result"
    }
   ],
   "source": [
    "frozen_deli_fresh.iloc[0]"
   ]
  },
  {
   "cell_type": "code",
   "execution_count": 91,
   "id": "9f440dd7-2a30-4c19-b601-82806b5103f4",
   "metadata": {},
   "outputs": [
    {
     "data": {
      "text/plain": [
       "array([  214.,  1338., 12669.], dtype=float32)"
      ]
     },
     "execution_count": 91,
     "metadata": {},
     "output_type": "execute_result"
    }
   ],
   "source": [
    "# changed types to array\n",
    "frozen_deli_fresh.values.astype(\"float32\",copy=False)[0]"
   ]
  },
  {
   "cell_type": "code",
   "execution_count": 92,
   "id": "94e832d2-e221-4ec9-8602-7e60d8491869",
   "metadata": {},
   "outputs": [],
   "source": [
    "#convert to an array and turn into float and save\n",
    "np_array = frozen_deli_fresh.values.astype(\"float32\",copy=False)"
   ]
  },
  {
   "cell_type": "markdown",
   "id": "b3931297-d098-409c-958c-70b4da6b41bf",
   "metadata": {},
   "source": [
    "### Step 3. Scale"
   ]
  },
  {
   "cell_type": "code",
   "execution_count": 93,
   "id": "bb998f04-c1af-4332-a8e2-fdb45614a852",
   "metadata": {},
   "outputs": [
    {
     "data": {
      "text/plain": [
       "array([[0.0031063 , 0.02784731, 0.11294005],\n",
       "       [0.02854842, 0.03698373, 0.06289903],\n",
       "       [0.03911643, 0.16355862, 0.05662161],\n",
       "       ...,\n",
       "       [0.00677142, 0.03888194, 0.12954311],\n",
       "       [0.01664914, 0.04426366, 0.09172701],\n",
       "       [0.00065742, 0.00102211, 0.02482434]], dtype=float32)"
      ]
     },
     "execution_count": 93,
     "metadata": {},
     "output_type": "execute_result"
    }
   ],
   "source": [
    "# MAKE the scaler\n",
    "minmax = MinMaxScaler()\n",
    "\n",
    "# FIT/transform the scaler\n",
    "frozen_deli_fresh_scaled = minmax.fit_transform(np_array)\n",
    "\n",
    "frozen_deli_fresh_scaled"
   ]
  },
  {
   "cell_type": "code",
   "execution_count": 94,
   "id": "642c94fe-7579-4742-90bc-cbb0965cc54a",
   "metadata": {},
   "outputs": [
    {
     "data": {
      "text/plain": [
       "['Scaled_Frozen', 'Scaled_Delicassen', 'Scaled_Fresh']"
      ]
     },
     "execution_count": 94,
     "metadata": {},
     "output_type": "execute_result"
    }
   ],
   "source": [
    "# using list comprehesion to get new column names\n",
    "[\"Scaled_\"+column for column in frozen_deli_fresh]"
   ]
  },
  {
   "cell_type": "code",
   "execution_count": 95,
   "id": "f0ae49e8-a4ff-4ff0-9354-1ee856649b5d",
   "metadata": {},
   "outputs": [],
   "source": [
    "# Now, let's add the scaled value columns back onto the dataframe\n",
    "scaled_columns = [\"Scaled_\"+column for column in frozen_deli_fresh]"
   ]
  },
  {
   "cell_type": "code",
   "execution_count": 96,
   "id": "28bba5bb-82bd-4fde-8219-dca21fb11fba",
   "metadata": {},
   "outputs": [],
   "source": [
    "# Save a copy of the original dataframe\n",
    "original_df = df.copy()"
   ]
  },
  {
   "cell_type": "code",
   "execution_count": 97,
   "id": "8222930c-f4e0-4d4f-b892-aafbcd7af416",
   "metadata": {},
   "outputs": [],
   "source": [
    "# Create a dataframe containing the scaled array of values\n",
    "scaled_df = pd.DataFrame(frozen_deli_fresh_scaled, columns = scaled_columns)"
   ]
  },
  {
   "cell_type": "code",
   "execution_count": 98,
   "id": "3a1fdbe6-82c4-4a8a-bdab-69ddb35b9b47",
   "metadata": {},
   "outputs": [
    {
     "data": {
      "text/html": [
       "<div>\n",
       "<style scoped>\n",
       "    .dataframe tbody tr th:only-of-type {\n",
       "        vertical-align: middle;\n",
       "    }\n",
       "\n",
       "    .dataframe tbody tr th {\n",
       "        vertical-align: top;\n",
       "    }\n",
       "\n",
       "    .dataframe thead th {\n",
       "        text-align: right;\n",
       "    }\n",
       "</style>\n",
       "<table border=\"1\" class=\"dataframe\">\n",
       "  <thead>\n",
       "    <tr style=\"text-align: right;\">\n",
       "      <th></th>\n",
       "      <th>Scaled_Frozen</th>\n",
       "      <th>Scaled_Delicassen</th>\n",
       "      <th>Scaled_Fresh</th>\n",
       "    </tr>\n",
       "  </thead>\n",
       "  <tbody>\n",
       "    <tr>\n",
       "      <th>0</th>\n",
       "      <td>0.003106</td>\n",
       "      <td>0.027847</td>\n",
       "      <td>0.112940</td>\n",
       "    </tr>\n",
       "    <tr>\n",
       "      <th>1</th>\n",
       "      <td>0.028548</td>\n",
       "      <td>0.036984</td>\n",
       "      <td>0.062899</td>\n",
       "    </tr>\n",
       "    <tr>\n",
       "      <th>2</th>\n",
       "      <td>0.039116</td>\n",
       "      <td>0.163559</td>\n",
       "      <td>0.056622</td>\n",
       "    </tr>\n",
       "    <tr>\n",
       "      <th>3</th>\n",
       "      <td>0.104842</td>\n",
       "      <td>0.037234</td>\n",
       "      <td>0.118254</td>\n",
       "    </tr>\n",
       "    <tr>\n",
       "      <th>4</th>\n",
       "      <td>0.063934</td>\n",
       "      <td>0.108093</td>\n",
       "      <td>0.201626</td>\n",
       "    </tr>\n",
       "    <tr>\n",
       "      <th>...</th>\n",
       "      <td>...</td>\n",
       "      <td>...</td>\n",
       "      <td>...</td>\n",
       "    </tr>\n",
       "    <tr>\n",
       "      <th>435</th>\n",
       "      <td>0.215469</td>\n",
       "      <td>0.045912</td>\n",
       "      <td>0.264829</td>\n",
       "    </tr>\n",
       "    <tr>\n",
       "      <th>436</th>\n",
       "      <td>0.073713</td>\n",
       "      <td>0.048874</td>\n",
       "      <td>0.349761</td>\n",
       "    </tr>\n",
       "    <tr>\n",
       "      <th>437</th>\n",
       "      <td>0.006771</td>\n",
       "      <td>0.038882</td>\n",
       "      <td>0.129543</td>\n",
       "    </tr>\n",
       "    <tr>\n",
       "      <th>438</th>\n",
       "      <td>0.016649</td>\n",
       "      <td>0.044264</td>\n",
       "      <td>0.091727</td>\n",
       "    </tr>\n",
       "    <tr>\n",
       "      <th>439</th>\n",
       "      <td>0.000657</td>\n",
       "      <td>0.001022</td>\n",
       "      <td>0.024824</td>\n",
       "    </tr>\n",
       "  </tbody>\n",
       "</table>\n",
       "<p>440 rows × 3 columns</p>\n",
       "</div>"
      ],
      "text/plain": [
       "     Scaled_Frozen  Scaled_Delicassen  Scaled_Fresh\n",
       "0         0.003106           0.027847      0.112940\n",
       "1         0.028548           0.036984      0.062899\n",
       "2         0.039116           0.163559      0.056622\n",
       "3         0.104842           0.037234      0.118254\n",
       "4         0.063934           0.108093      0.201626\n",
       "..             ...                ...           ...\n",
       "435       0.215469           0.045912      0.264829\n",
       "436       0.073713           0.048874      0.349761\n",
       "437       0.006771           0.038882      0.129543\n",
       "438       0.016649           0.044264      0.091727\n",
       "439       0.000657           0.001022      0.024824\n",
       "\n",
       "[440 rows x 3 columns]"
      ]
     },
     "execution_count": 98,
     "metadata": {},
     "output_type": "execute_result"
    }
   ],
   "source": [
    "scaled_df"
   ]
  },
  {
   "cell_type": "code",
   "execution_count": 99,
   "id": "08306d68-e124-4788-ace3-bc8c1f4fcc24",
   "metadata": {},
   "outputs": [],
   "source": [
    "# Merge the scaled and non-scaled values into one dataframe\n",
    "df = df.merge(scaled_df, on=df.index)\n",
    "df = df.drop(columns={'key_0'})"
   ]
  },
  {
   "cell_type": "code",
   "execution_count": 100,
   "id": "796172a6-3bc7-4182-89e8-10c1d2b14acc",
   "metadata": {},
   "outputs": [
    {
     "data": {
      "text/html": [
       "<div>\n",
       "<style scoped>\n",
       "    .dataframe tbody tr th:only-of-type {\n",
       "        vertical-align: middle;\n",
       "    }\n",
       "\n",
       "    .dataframe tbody tr th {\n",
       "        vertical-align: top;\n",
       "    }\n",
       "\n",
       "    .dataframe thead th {\n",
       "        text-align: right;\n",
       "    }\n",
       "</style>\n",
       "<table border=\"1\" class=\"dataframe\">\n",
       "  <thead>\n",
       "    <tr style=\"text-align: right;\">\n",
       "      <th></th>\n",
       "      <th>Channel</th>\n",
       "      <th>Region</th>\n",
       "      <th>Fresh</th>\n",
       "      <th>Milk</th>\n",
       "      <th>Grocery</th>\n",
       "      <th>Frozen</th>\n",
       "      <th>Detergents_Paper</th>\n",
       "      <th>Delicassen</th>\n",
       "      <th>Scaled_Frozen</th>\n",
       "      <th>Scaled_Delicassen</th>\n",
       "      <th>Scaled_Fresh</th>\n",
       "    </tr>\n",
       "  </thead>\n",
       "  <tbody>\n",
       "    <tr>\n",
       "      <th>0</th>\n",
       "      <td>2</td>\n",
       "      <td>3</td>\n",
       "      <td>12669</td>\n",
       "      <td>9656</td>\n",
       "      <td>7561</td>\n",
       "      <td>214</td>\n",
       "      <td>2674</td>\n",
       "      <td>1338</td>\n",
       "      <td>0.003106</td>\n",
       "      <td>0.027847</td>\n",
       "      <td>0.112940</td>\n",
       "    </tr>\n",
       "    <tr>\n",
       "      <th>1</th>\n",
       "      <td>2</td>\n",
       "      <td>3</td>\n",
       "      <td>7057</td>\n",
       "      <td>9810</td>\n",
       "      <td>9568</td>\n",
       "      <td>1762</td>\n",
       "      <td>3293</td>\n",
       "      <td>1776</td>\n",
       "      <td>0.028548</td>\n",
       "      <td>0.036984</td>\n",
       "      <td>0.062899</td>\n",
       "    </tr>\n",
       "    <tr>\n",
       "      <th>2</th>\n",
       "      <td>2</td>\n",
       "      <td>3</td>\n",
       "      <td>6353</td>\n",
       "      <td>8808</td>\n",
       "      <td>7684</td>\n",
       "      <td>2405</td>\n",
       "      <td>3516</td>\n",
       "      <td>7844</td>\n",
       "      <td>0.039116</td>\n",
       "      <td>0.163559</td>\n",
       "      <td>0.056622</td>\n",
       "    </tr>\n",
       "    <tr>\n",
       "      <th>3</th>\n",
       "      <td>1</td>\n",
       "      <td>3</td>\n",
       "      <td>13265</td>\n",
       "      <td>1196</td>\n",
       "      <td>4221</td>\n",
       "      <td>6404</td>\n",
       "      <td>507</td>\n",
       "      <td>1788</td>\n",
       "      <td>0.104842</td>\n",
       "      <td>0.037234</td>\n",
       "      <td>0.118254</td>\n",
       "    </tr>\n",
       "    <tr>\n",
       "      <th>4</th>\n",
       "      <td>2</td>\n",
       "      <td>3</td>\n",
       "      <td>22615</td>\n",
       "      <td>5410</td>\n",
       "      <td>7198</td>\n",
       "      <td>3915</td>\n",
       "      <td>1777</td>\n",
       "      <td>5185</td>\n",
       "      <td>0.063934</td>\n",
       "      <td>0.108093</td>\n",
       "      <td>0.201626</td>\n",
       "    </tr>\n",
       "  </tbody>\n",
       "</table>\n",
       "</div>"
      ],
      "text/plain": [
       "   Channel  Region  Fresh  Milk  Grocery  Frozen  Detergents_Paper  \\\n",
       "0        2       3  12669  9656     7561     214              2674   \n",
       "1        2       3   7057  9810     9568    1762              3293   \n",
       "2        2       3   6353  8808     7684    2405              3516   \n",
       "3        1       3  13265  1196     4221    6404               507   \n",
       "4        2       3  22615  5410     7198    3915              1777   \n",
       "\n",
       "   Delicassen  Scaled_Frozen  Scaled_Delicassen  Scaled_Fresh  \n",
       "0        1338       0.003106           0.027847      0.112940  \n",
       "1        1776       0.028548           0.036984      0.062899  \n",
       "2        7844       0.039116           0.163559      0.056622  \n",
       "3        1788       0.104842           0.037234      0.118254  \n",
       "4        5185       0.063934           0.108093      0.201626  "
      ]
     },
     "execution_count": 100,
     "metadata": {},
     "output_type": "execute_result"
    }
   ],
   "source": [
    "df.head()"
   ]
  },
  {
   "cell_type": "markdown",
   "id": "f4456252-cc18-4640-80fe-20792838a8df",
   "metadata": {},
   "source": [
    "### Step 4. Make the DBSCAN"
   ]
  },
  {
   "cell_type": "code",
   "execution_count": 101,
   "id": "cb112af9-224a-4755-a155-54622e2e9ce7",
   "metadata": {},
   "outputs": [
    {
     "data": {
      "text/plain": [
       "DBSCAN(eps=0.1, min_samples=20)"
      ]
     },
     "execution_count": 101,
     "metadata": {},
     "output_type": "execute_result"
    }
   ],
   "source": [
    "# Make the object\n",
    "dbsc = DBSCAN(eps=.1, min_samples=20)\n",
    "\n",
    "# Fit the object\n",
    "dbsc.fit(frozen_deli_region_scaled)"
   ]
  },
  {
   "cell_type": "markdown",
   "id": "50113e28-fdf5-4f5b-893c-844949bfd118",
   "metadata": {},
   "source": [
    "### Step 5. Get Labels"
   ]
  },
  {
   "cell_type": "code",
   "execution_count": 102,
   "id": "e92434e2-d9d3-441a-9dd6-9febe930ce5f",
   "metadata": {},
   "outputs": [
    {
     "data": {
      "text/plain": [
       "array([ 0,  0,  0,  0,  0,  0,  0,  0,  0,  0,  0,  0,  0,  0,  0,  0,  0,\n",
       "        0,  0,  0,  0,  0,  0, -1,  0,  0,  0,  0,  0,  0,  0,  0,  0,  0,\n",
       "        0,  0,  0,  0,  0, -1,  0,  0,  0,  0,  0,  0,  0, -1,  0,  0,  0,\n",
       "        0,  0,  0,  0,  0,  0,  0,  0,  0,  0,  0,  0,  0,  0,  0,  0,  0,\n",
       "        0,  0,  0, -1,  0,  0,  0,  0,  0,  0,  0,  0,  0,  0,  0,  0,  0,\n",
       "        0,  0, -1,  0,  0,  0,  0,  0, -1,  0,  0,  0,  0,  0,  0,  0,  0,\n",
       "        0, -1,  0,  0,  0,  0,  0,  0,  0,  0,  0,  0,  0,  0,  0,  0,  0,\n",
       "        0,  0,  0,  0,  0,  0, -1,  0,  0,  0,  0,  0,  0,  0,  0,  0,  0,\n",
       "        0,  0,  0,  0,  0,  0,  0,  0,  0,  0,  0,  0,  0,  0,  0,  0,  0,\n",
       "        0,  0,  0,  0,  0,  0,  0,  0,  0,  0,  0,  0,  0,  0,  0,  0,  0,\n",
       "        0,  0,  0,  0,  0,  0,  0,  0,  0,  0,  0, -1,  0, -1,  0,  0,  0,\n",
       "        0,  0,  0,  0,  0,  0,  0,  0,  0, -1,  0,  0,  0,  0,  0,  0,  0,\n",
       "        0,  0,  0,  0,  0,  0,  0,  0,  0,  0,  0,  0,  0,  0,  0,  0,  0,\n",
       "        0,  0,  0,  0,  0,  0,  0,  0,  0,  0,  0,  0,  0,  0,  0,  0,  0,\n",
       "        0,  0,  0,  0,  0,  0,  0,  0,  0,  0,  0,  0,  0,  0,  0,  0,  0,\n",
       "        0,  0,  0, -1, -1,  0,  0,  0,  0,  0,  0,  0,  0,  0,  0,  0,  0,\n",
       "        0,  0,  0,  0,  0, -1,  0,  0,  0,  0,  0,  0, -1,  0,  0,  0,  0,\n",
       "        0,  0,  0,  0,  0,  0,  0,  0,  0,  0,  0,  0,  0,  0,  0,  0,  0,\n",
       "        0,  0,  0,  0,  0,  0,  0,  0,  0,  0,  0,  0,  0,  0,  0,  0,  0,\n",
       "        0,  0, -1,  0,  0,  0,  0,  0,  0,  0,  0,  0,  0,  0,  0, -1,  0,\n",
       "        0,  0,  0,  0,  0,  0,  0,  0,  0,  0,  0,  0,  0,  0,  0,  0,  0,\n",
       "        0,  0,  0,  0,  0,  0,  0,  0,  0,  0,  0,  0,  0,  0,  0,  0,  0,\n",
       "        0,  0,  0,  0,  0,  0,  0,  0,  0,  0,  0,  0,  0,  0,  0,  0,  0,\n",
       "        0,  0,  0,  0,  0,  0,  0,  0,  0,  0,  0,  0,  0,  0,  0,  0,  0,\n",
       "        0,  0,  0,  0,  0, -1,  0,  0,  0,  0,  0,  0,  0,  0,  0,  0,  0,\n",
       "        0,  0,  0,  0,  0,  0,  0,  0,  0,  0,  0,  0,  0,  0,  0])"
      ]
     },
     "execution_count": 102,
     "metadata": {},
     "output_type": "execute_result"
    }
   ],
   "source": [
    "# look at the labels\n",
    "dbsc.labels_"
   ]
  },
  {
   "cell_type": "markdown",
   "id": "948a4394-8632-4190-9d4f-058e671ed567",
   "metadata": {},
   "source": [
    "### Step 6. Add back to original"
   ]
  },
  {
   "cell_type": "code",
   "execution_count": 103,
   "id": "61b2dcb1-d9e3-4865-84ad-3ae8a5afb33f",
   "metadata": {},
   "outputs": [],
   "source": [
    "# Assign the cluster labels\n",
    "df['frozen_deli_fresh_labels'] = dbsc.labels_"
   ]
  },
  {
   "cell_type": "code",
   "execution_count": 104,
   "id": "4bde4ddc-aeff-4821-b116-82efcb1fc90d",
   "metadata": {},
   "outputs": [
    {
     "data": {
      "text/html": [
       "<div>\n",
       "<style scoped>\n",
       "    .dataframe tbody tr th:only-of-type {\n",
       "        vertical-align: middle;\n",
       "    }\n",
       "\n",
       "    .dataframe tbody tr th {\n",
       "        vertical-align: top;\n",
       "    }\n",
       "\n",
       "    .dataframe thead th {\n",
       "        text-align: right;\n",
       "    }\n",
       "</style>\n",
       "<table border=\"1\" class=\"dataframe\">\n",
       "  <thead>\n",
       "    <tr style=\"text-align: right;\">\n",
       "      <th></th>\n",
       "      <th>Channel</th>\n",
       "      <th>Region</th>\n",
       "      <th>Fresh</th>\n",
       "      <th>Milk</th>\n",
       "      <th>Grocery</th>\n",
       "      <th>Frozen</th>\n",
       "      <th>Detergents_Paper</th>\n",
       "      <th>Delicassen</th>\n",
       "      <th>Scaled_Frozen</th>\n",
       "      <th>Scaled_Delicassen</th>\n",
       "      <th>Scaled_Fresh</th>\n",
       "      <th>frozen_deli_fresh_labels</th>\n",
       "    </tr>\n",
       "  </thead>\n",
       "  <tbody>\n",
       "    <tr>\n",
       "      <th>331</th>\n",
       "      <td>2</td>\n",
       "      <td>2</td>\n",
       "      <td>11223</td>\n",
       "      <td>14881</td>\n",
       "      <td>26839</td>\n",
       "      <td>1234</td>\n",
       "      <td>9606</td>\n",
       "      <td>1102</td>\n",
       "      <td>0.019870</td>\n",
       "      <td>0.022924</td>\n",
       "      <td>0.100046</td>\n",
       "      <td>0</td>\n",
       "    </tr>\n",
       "    <tr>\n",
       "      <th>385</th>\n",
       "      <td>1</td>\n",
       "      <td>3</td>\n",
       "      <td>11635</td>\n",
       "      <td>922</td>\n",
       "      <td>1614</td>\n",
       "      <td>2583</td>\n",
       "      <td>192</td>\n",
       "      <td>1068</td>\n",
       "      <td>0.042042</td>\n",
       "      <td>0.022215</td>\n",
       "      <td>0.103720</td>\n",
       "      <td>0</td>\n",
       "    </tr>\n",
       "    <tr>\n",
       "      <th>165</th>\n",
       "      <td>2</td>\n",
       "      <td>3</td>\n",
       "      <td>15615</td>\n",
       "      <td>12653</td>\n",
       "      <td>19858</td>\n",
       "      <td>4425</td>\n",
       "      <td>7108</td>\n",
       "      <td>2379</td>\n",
       "      <td>0.072316</td>\n",
       "      <td>0.049562</td>\n",
       "      <td>0.139209</td>\n",
       "      <td>0</td>\n",
       "    </tr>\n",
       "    <tr>\n",
       "      <th>174</th>\n",
       "      <td>1</td>\n",
       "      <td>3</td>\n",
       "      <td>286</td>\n",
       "      <td>1208</td>\n",
       "      <td>5241</td>\n",
       "      <td>2515</td>\n",
       "      <td>153</td>\n",
       "      <td>1442</td>\n",
       "      <td>0.040924</td>\n",
       "      <td>0.030017</td>\n",
       "      <td>0.002523</td>\n",
       "      <td>0</td>\n",
       "    </tr>\n",
       "    <tr>\n",
       "      <th>161</th>\n",
       "      <td>1</td>\n",
       "      <td>3</td>\n",
       "      <td>12434</td>\n",
       "      <td>540</td>\n",
       "      <td>283</td>\n",
       "      <td>1092</td>\n",
       "      <td>3</td>\n",
       "      <td>2233</td>\n",
       "      <td>0.017537</td>\n",
       "      <td>0.046516</td>\n",
       "      <td>0.110845</td>\n",
       "      <td>0</td>\n",
       "    </tr>\n",
       "  </tbody>\n",
       "</table>\n",
       "</div>"
      ],
      "text/plain": [
       "     Channel  Region  Fresh   Milk  Grocery  Frozen  Detergents_Paper  \\\n",
       "331        2       2  11223  14881    26839    1234              9606   \n",
       "385        1       3  11635    922     1614    2583               192   \n",
       "165        2       3  15615  12653    19858    4425              7108   \n",
       "174        1       3    286   1208     5241    2515               153   \n",
       "161        1       3  12434    540      283    1092                 3   \n",
       "\n",
       "     Delicassen  Scaled_Frozen  Scaled_Delicassen  Scaled_Fresh  \\\n",
       "331        1102       0.019870           0.022924      0.100046   \n",
       "385        1068       0.042042           0.022215      0.103720   \n",
       "165        2379       0.072316           0.049562      0.139209   \n",
       "174        1442       0.040924           0.030017      0.002523   \n",
       "161        2233       0.017537           0.046516      0.110845   \n",
       "\n",
       "     frozen_deli_fresh_labels  \n",
       "331                         0  \n",
       "385                         0  \n",
       "165                         0  \n",
       "174                         0  \n",
       "161                         0  "
      ]
     },
     "execution_count": 104,
     "metadata": {},
     "output_type": "execute_result"
    }
   ],
   "source": [
    "#see what this dataframe looks like\n",
    "df.sample(5)"
   ]
  },
  {
   "cell_type": "markdown",
   "id": "650d19a0-11c4-4a60-bb34-e376b1ff760e",
   "metadata": {},
   "source": [
    "### Step 7. Explore"
   ]
  },
  {
   "cell_type": "code",
   "execution_count": 105,
   "id": "9b7f64b7-2018-4951-a48f-48573ad52882",
   "metadata": {},
   "outputs": [
    {
     "data": {
      "text/plain": [
       " 0    422\n",
       "-1     18\n",
       "Name: frozen_deli_fresh_labels, dtype: int64"
      ]
     },
     "execution_count": 105,
     "metadata": {},
     "output_type": "execute_result"
    }
   ],
   "source": [
    "#let's see what labels holds\n",
    "df.frozen_deli_fresh_labels.value_counts()"
   ]
  },
  {
   "cell_type": "code",
   "execution_count": 106,
   "id": "9bd70ff0-6013-46ab-829a-63ae1c9ef2cc",
   "metadata": {},
   "outputs": [
    {
     "name": "stdout",
     "output_type": "stream",
     "text": [
      "('Frozen', 'Delicassen')\n",
      "('Frozen', 'Fresh')\n",
      "('Delicassen', 'Fresh')\n"
     ]
    }
   ],
   "source": [
    "# looking at all possible combinations\n",
    "for combination in itertools.combinations(frozen_deli_fresh.columns, 2):\n",
    "    print(combination)"
   ]
  },
  {
   "cell_type": "code",
   "execution_count": 107,
   "id": "29f69787-b822-492a-8386-7589e16fc776",
   "metadata": {},
   "outputs": [
    {
     "data": {
      "image/png": "[encoded data removed]",
      "text/plain": [
       "<Figure size 640x480 with 1 Axes>"
      ]
     },
     "metadata": {},
     "output_type": "display_data"
    },
    {
     "data": {
      "image/png": "[encoded data removed]",
      "text/plain": [
       "<Figure size 640x480 with 1 Axes>"
      ]
     },
     "metadata": {},
     "output_type": "display_data"
    },
    {
     "data": {
      "image/png": "[encoded data removed]",
      "text/plain": [
       "<Figure size 640x480 with 1 Axes>"
      ]
     },
     "metadata": {},
     "output_type": "display_data"
    }
   ],
   "source": [
    "# plot results\n",
    "for combination in itertools.combinations(frozen_deli_fresh.columns, 2):\n",
    "    sns.scatterplot(df[combination[0]], df[combination[1]], hue=df.frozen_deli_fresh_labels)\n",
    "    plt.title(f\"{combination[0]} by {combination[1]} Cluster vs. Outliers\")\n",
    "    plt.show()"
   ]
  },
  {
   "cell_type": "markdown",
   "id": "51d4c7bd-c9cf-4345-8941-6b334122da9e",
   "metadata": {
    "tags": []
   },
   "source": [
    "# 2. Use DBSCAN to detect anomalies in requests from the curriculum access logs in the `curriculum_logs` database."
   ]
  },
  {
   "cell_type": "code",
   "execution_count": 249,
   "id": "ff6f535b-6594-4f79-b01f-bba1898e7db5",
   "metadata": {},
   "outputs": [
    {
     "data": {
      "text/html": [
       "<div>\n",
       "<style scoped>\n",
       "    .dataframe tbody tr th:only-of-type {\n",
       "        vertical-align: middle;\n",
       "    }\n",
       "\n",
       "    .dataframe tbody tr th {\n",
       "        vertical-align: top;\n",
       "    }\n",
       "\n",
       "    .dataframe thead th {\n",
       "        text-align: right;\n",
       "    }\n",
       "</style>\n",
       "<table border=\"1\" class=\"dataframe\">\n",
       "  <thead>\n",
       "    <tr style=\"text-align: right;\">\n",
       "      <th></th>\n",
       "      <th>ip</th>\n",
       "      <th>timestamp</th>\n",
       "      <th>request_method</th>\n",
       "      <th>request_path</th>\n",
       "      <th>http_version</th>\n",
       "      <th>status_code</th>\n",
       "      <th>size</th>\n",
       "      <th>user_agent</th>\n",
       "    </tr>\n",
       "  </thead>\n",
       "  <tbody>\n",
       "    <tr>\n",
       "      <th>0</th>\n",
       "      <td>97.105.19.58</td>\n",
       "      <td>16/Apr/2019 19:34:42</td>\n",
       "      <td>GET</td>\n",
       "      <td>/api/v1/sales?page=81</td>\n",
       "      <td>HTTP/1.1</td>\n",
       "      <td>200</td>\n",
       "      <td>512495</td>\n",
       "      <td>python-requests/2.21.0</td>\n",
       "    </tr>\n",
       "    <tr>\n",
       "      <th>1</th>\n",
       "      <td>97.105.19.58</td>\n",
       "      <td>16/Apr/2019 19:34:42</td>\n",
       "      <td>GET</td>\n",
       "      <td>/api/v1/items</td>\n",
       "      <td>HTTP/1.1</td>\n",
       "      <td>200</td>\n",
       "      <td>3561</td>\n",
       "      <td>python-requests/2.21.0</td>\n",
       "    </tr>\n",
       "    <tr>\n",
       "      <th>2</th>\n",
       "      <td>97.105.19.58</td>\n",
       "      <td>16/Apr/2019 19:34:44</td>\n",
       "      <td>GET</td>\n",
       "      <td>/api/v1/sales?page=82</td>\n",
       "      <td>HTTP/1.1</td>\n",
       "      <td>200</td>\n",
       "      <td>510103</td>\n",
       "      <td>python-requests/2.21.0</td>\n",
       "    </tr>\n",
       "    <tr>\n",
       "      <th>3</th>\n",
       "      <td>97.105.19.58</td>\n",
       "      <td>16/Apr/2019 19:34:46</td>\n",
       "      <td>GET</td>\n",
       "      <td>/api/v1/sales?page=83</td>\n",
       "      <td>HTTP/1.1</td>\n",
       "      <td>200</td>\n",
       "      <td>510003</td>\n",
       "      <td>python-requests/2.21.0</td>\n",
       "    </tr>\n",
       "    <tr>\n",
       "      <th>4</th>\n",
       "      <td>97.105.19.58</td>\n",
       "      <td>16/Apr/2019 19:34:48</td>\n",
       "      <td>GET</td>\n",
       "      <td>/api/v1/sales?page=84</td>\n",
       "      <td>HTTP/1.1</td>\n",
       "      <td>200</td>\n",
       "      <td>511963</td>\n",
       "      <td>python-requests/2.21.0</td>\n",
       "    </tr>\n",
       "  </tbody>\n",
       "</table>\n",
       "</div>"
      ],
      "text/plain": [
       "             ip             timestamp request_method           request_path  \\\n",
       "0  97.105.19.58  16/Apr/2019 19:34:42            GET  /api/v1/sales?page=81   \n",
       "1  97.105.19.58  16/Apr/2019 19:34:42            GET          /api/v1/items   \n",
       "2  97.105.19.58  16/Apr/2019 19:34:44            GET  /api/v1/sales?page=82   \n",
       "3  97.105.19.58  16/Apr/2019 19:34:46            GET  /api/v1/sales?page=83   \n",
       "4  97.105.19.58  16/Apr/2019 19:34:48            GET  /api/v1/sales?page=84   \n",
       "\n",
       "  http_version status_code    size              user_agent  \n",
       "0     HTTP/1.1         200  512495  python-requests/2.21.0  \n",
       "1     HTTP/1.1         200    3561  python-requests/2.21.0  \n",
       "2     HTTP/1.1         200  510103  python-requests/2.21.0  \n",
       "3     HTTP/1.1         200  510003  python-requests/2.21.0  \n",
       "4     HTTP/1.1         200  511963  python-requests/2.21.0  "
      ]
     },
     "execution_count": 249,
     "metadata": {},
     "output_type": "execute_result"
    }
   ],
   "source": [
    "# Get the data\n",
    "# function to deal with parsing one entry in our log data\n",
    "def parse_log_entry(entry):\n",
    "    parts = entry.split()\n",
    "    output = {}\n",
    "    output['ip'] = parts[0]\n",
    "    output['timestamp'] = parts[3][1:].replace(':', ' ', 1)\n",
    "    output['request_method'] = parts[5][1:]\n",
    "    output['request_path'] = parts[6]\n",
    "    output['http_version'] = parts[7][:-1]\n",
    "    output['status_code'] = parts[8]\n",
    "    output['size'] = int(parts[9])\n",
    "    output['user_agent'] = ' '.join(parts[11:]).replace('\"', '')\n",
    "    return pd.Series(output)\n",
    "\n",
    "url = f'mysql+pymysql://{env.user}:{env.password}@{env.host}/logs'\n",
    "engine = create_engine(url)    \n",
    "df = pd.read_sql(text('SELECT * FROM api_access'), engine.connect())\n",
    "# df = pd.concat([df.entry, df.entry.apply(parse_log_entry)], axis=1)\n",
    "df = df.entry.apply(parse_log_entry)\n",
    "df.head()"
   ]
  },
  {
   "cell_type": "code",
   "execution_count": 250,
   "id": "e15e4a33-f88d-4632-99d0-4f0d31eb3319",
   "metadata": {},
   "outputs": [],
   "source": [
    "df.timestamp = df.timestamp.astype('datetime64')"
   ]
  },
  {
   "cell_type": "code",
   "execution_count": 251,
   "id": "d340ce00-0a80-4aca-805c-34a6980ba489",
   "metadata": {},
   "outputs": [],
   "source": [
    "df = df.set_index('timestamp')"
   ]
  },
  {
   "cell_type": "code",
   "execution_count": 269,
   "id": "8901758e-220d-455f-bfec-98e80dbd1568",
   "metadata": {},
   "outputs": [
    {
     "data": {
      "text/html": [
       "<div>\n",
       "<style scoped>\n",
       "    .dataframe tbody tr th:only-of-type {\n",
       "        vertical-align: middle;\n",
       "    }\n",
       "\n",
       "    .dataframe tbody tr th {\n",
       "        vertical-align: top;\n",
       "    }\n",
       "\n",
       "    .dataframe thead th {\n",
       "        text-align: right;\n",
       "    }\n",
       "</style>\n",
       "<table border=\"1\" class=\"dataframe\">\n",
       "  <thead>\n",
       "    <tr style=\"text-align: right;\">\n",
       "      <th></th>\n",
       "      <th>ip</th>\n",
       "      <th>request_method</th>\n",
       "      <th>request_path</th>\n",
       "      <th>http_version</th>\n",
       "      <th>status_code</th>\n",
       "      <th>size</th>\n",
       "      <th>user_agent</th>\n",
       "      <th>Scaled_size</th>\n",
       "      <th>Scaled_status_code</th>\n",
       "    </tr>\n",
       "  </thead>\n",
       "  <tbody>\n",
       "    <tr>\n",
       "      <th>0</th>\n",
       "      <td>97.105.19.58</td>\n",
       "      <td>GET</td>\n",
       "      <td>/api/v1/sales?page=81</td>\n",
       "      <td>HTTP/1.1</td>\n",
       "      <td>200</td>\n",
       "      <td>512495</td>\n",
       "      <td>python-requests/2.21.0</td>\n",
       "      <td>0.997584</td>\n",
       "      <td>0.0</td>\n",
       "    </tr>\n",
       "    <tr>\n",
       "      <th>1</th>\n",
       "      <td>97.105.19.58</td>\n",
       "      <td>GET</td>\n",
       "      <td>/api/v1/sales?page=81</td>\n",
       "      <td>HTTP/1.1</td>\n",
       "      <td>200</td>\n",
       "      <td>512495</td>\n",
       "      <td>python-requests/2.21.0</td>\n",
       "      <td>0.006932</td>\n",
       "      <td>0.0</td>\n",
       "    </tr>\n",
       "    <tr>\n",
       "      <th>2</th>\n",
       "      <td>97.105.19.58</td>\n",
       "      <td>GET</td>\n",
       "      <td>/api/v1/items</td>\n",
       "      <td>HTTP/1.1</td>\n",
       "      <td>200</td>\n",
       "      <td>3561</td>\n",
       "      <td>python-requests/2.21.0</td>\n",
       "      <td>0.997584</td>\n",
       "      <td>0.0</td>\n",
       "    </tr>\n",
       "    <tr>\n",
       "      <th>3</th>\n",
       "      <td>97.105.19.58</td>\n",
       "      <td>GET</td>\n",
       "      <td>/api/v1/items</td>\n",
       "      <td>HTTP/1.1</td>\n",
       "      <td>200</td>\n",
       "      <td>3561</td>\n",
       "      <td>python-requests/2.21.0</td>\n",
       "      <td>0.006932</td>\n",
       "      <td>0.0</td>\n",
       "    </tr>\n",
       "    <tr>\n",
       "      <th>4</th>\n",
       "      <td>97.105.19.58</td>\n",
       "      <td>GET</td>\n",
       "      <td>/api/v1/sales?page=82</td>\n",
       "      <td>HTTP/1.1</td>\n",
       "      <td>200</td>\n",
       "      <td>510103</td>\n",
       "      <td>python-requests/2.21.0</td>\n",
       "      <td>0.992928</td>\n",
       "      <td>0.0</td>\n",
       "    </tr>\n",
       "    <tr>\n",
       "      <th>...</th>\n",
       "      <td>...</td>\n",
       "      <td>...</td>\n",
       "      <td>...</td>\n",
       "      <td>...</td>\n",
       "      <td>...</td>\n",
       "      <td>...</td>\n",
       "      <td>...</td>\n",
       "      <td>...</td>\n",
       "      <td>...</td>\n",
       "    </tr>\n",
       "    <tr>\n",
       "      <th>24221</th>\n",
       "      <td>97.105.19.58</td>\n",
       "      <td>GET</td>\n",
       "      <td>/api/v1/sales?page=73</td>\n",
       "      <td>HTTP/1.1</td>\n",
       "      <td>200</td>\n",
       "      <td>511781</td>\n",
       "      <td>python-requests/2.21.0</td>\n",
       "      <td>0.996195</td>\n",
       "      <td>0.0</td>\n",
       "    </tr>\n",
       "    <tr>\n",
       "      <th>24222</th>\n",
       "      <td>97.105.19.58</td>\n",
       "      <td>GET</td>\n",
       "      <td>/api/v1/sales?page=73</td>\n",
       "      <td>HTTP/1.1</td>\n",
       "      <td>200</td>\n",
       "      <td>511781</td>\n",
       "      <td>python-requests/2.21.0</td>\n",
       "      <td>0.992993</td>\n",
       "      <td>0.0</td>\n",
       "    </tr>\n",
       "    <tr>\n",
       "      <th>24223</th>\n",
       "      <td>97.105.19.58</td>\n",
       "      <td>GET</td>\n",
       "      <td>/api/v1/sales?page=69</td>\n",
       "      <td>HTTP/1.1</td>\n",
       "      <td>200</td>\n",
       "      <td>510136</td>\n",
       "      <td>python-requests/2.21.0</td>\n",
       "      <td>0.996195</td>\n",
       "      <td>0.0</td>\n",
       "    </tr>\n",
       "    <tr>\n",
       "      <th>24224</th>\n",
       "      <td>97.105.19.58</td>\n",
       "      <td>GET</td>\n",
       "      <td>/api/v1/sales?page=69</td>\n",
       "      <td>HTTP/1.1</td>\n",
       "      <td>200</td>\n",
       "      <td>510136</td>\n",
       "      <td>python-requests/2.21.0</td>\n",
       "      <td>0.992993</td>\n",
       "      <td>0.0</td>\n",
       "    </tr>\n",
       "    <tr>\n",
       "      <th>24225</th>\n",
       "      <td>97.105.19.58</td>\n",
       "      <td>GET</td>\n",
       "      <td>/api/v1/sales?page=71</td>\n",
       "      <td>HTTP/1.1</td>\n",
       "      <td>200</td>\n",
       "      <td>510166</td>\n",
       "      <td>python-requests/2.21.0</td>\n",
       "      <td>0.993051</td>\n",
       "      <td>0.0</td>\n",
       "    </tr>\n",
       "  </tbody>\n",
       "</table>\n",
       "<p>24226 rows × 9 columns</p>\n",
       "</div>"
      ],
      "text/plain": [
       "                 ip request_method           request_path http_version  \\\n",
       "0      97.105.19.58            GET  /api/v1/sales?page=81     HTTP/1.1   \n",
       "1      97.105.19.58            GET  /api/v1/sales?page=81     HTTP/1.1   \n",
       "2      97.105.19.58            GET          /api/v1/items     HTTP/1.1   \n",
       "3      97.105.19.58            GET          /api/v1/items     HTTP/1.1   \n",
       "4      97.105.19.58            GET  /api/v1/sales?page=82     HTTP/1.1   \n",
       "...             ...            ...                    ...          ...   \n",
       "24221  97.105.19.58            GET  /api/v1/sales?page=73     HTTP/1.1   \n",
       "24222  97.105.19.58            GET  /api/v1/sales?page=73     HTTP/1.1   \n",
       "24223  97.105.19.58            GET  /api/v1/sales?page=69     HTTP/1.1   \n",
       "24224  97.105.19.58            GET  /api/v1/sales?page=69     HTTP/1.1   \n",
       "24225  97.105.19.58            GET  /api/v1/sales?page=71     HTTP/1.1   \n",
       "\n",
       "      status_code    size              user_agent  Scaled_size  \\\n",
       "0             200  512495  python-requests/2.21.0     0.997584   \n",
       "1             200  512495  python-requests/2.21.0     0.006932   \n",
       "2             200    3561  python-requests/2.21.0     0.997584   \n",
       "3             200    3561  python-requests/2.21.0     0.006932   \n",
       "4             200  510103  python-requests/2.21.0     0.992928   \n",
       "...           ...     ...                     ...          ...   \n",
       "24221         200  511781  python-requests/2.21.0     0.996195   \n",
       "24222         200  511781  python-requests/2.21.0     0.992993   \n",
       "24223         200  510136  python-requests/2.21.0     0.996195   \n",
       "24224         200  510136  python-requests/2.21.0     0.992993   \n",
       "24225         200  510166  python-requests/2.21.0     0.993051   \n",
       "\n",
       "       Scaled_status_code  \n",
       "0                     0.0  \n",
       "1                     0.0  \n",
       "2                     0.0  \n",
       "3                     0.0  \n",
       "4                     0.0  \n",
       "...                   ...  \n",
       "24221                 0.0  \n",
       "24222                 0.0  \n",
       "24223                 0.0  \n",
       "24224                 0.0  \n",
       "24225                 0.0  \n",
       "\n",
       "[24226 rows x 9 columns]"
      ]
     },
     "execution_count": 269,
     "metadata": {},
     "output_type": "execute_result"
    }
   ],
   "source": [
    "df = df.sort_index()\n",
    "df"
   ]
  },
  {
   "cell_type": "markdown",
   "id": "18ecd73c-1dd1-4ebc-908a-af32deaf0dd7",
   "metadata": {},
   "source": [
    "## 1. Cluster on features"
   ]
  },
  {
   "cell_type": "code",
   "execution_count": 270,
   "id": "c980a33c-7689-4bb5-b672-3b27f2418285",
   "metadata": {},
   "outputs": [
    {
     "data": {
      "text/plain": [
       "(24226, 2)"
      ]
     },
     "execution_count": 270,
     "metadata": {},
     "output_type": "execute_result"
    }
   ],
   "source": [
    "# select features\n",
    "size_status = df[['size', 'status_code']]\n",
    "size_status.shape"
   ]
  },
  {
   "cell_type": "markdown",
   "id": "8aebc2b4-d181-4829-967c-344430f13d72",
   "metadata": {},
   "source": [
    "## 2. Array and Float"
   ]
  },
  {
   "cell_type": "code",
   "execution_count": 271,
   "id": "7868786b-3427-4e52-80ab-d6a328d3b0ef",
   "metadata": {},
   "outputs": [
    {
     "data": {
      "text/plain": [
       "array([5.12495e+05, 2.00000e+02], dtype=float32)"
      ]
     },
     "execution_count": 271,
     "metadata": {},
     "output_type": "execute_result"
    }
   ],
   "source": [
    "# changed types to array\n",
    "size_status.values.astype(\"float32\",copy=False)[0]"
   ]
  },
  {
   "cell_type": "code",
   "execution_count": 272,
   "id": "aefb1c4d-63cb-488f-9f01-bcd290c7dcb1",
   "metadata": {},
   "outputs": [
    {
     "data": {
      "text/plain": [
       "array([[5.12495e+05, 2.00000e+02],\n",
       "       [5.12495e+05, 2.00000e+02],\n",
       "       [3.56100e+03, 2.00000e+02],\n",
       "       ...,\n",
       "       [5.10136e+05, 2.00000e+02],\n",
       "       [5.10136e+05, 2.00000e+02],\n",
       "       [5.10166e+05, 2.00000e+02]], dtype=float32)"
      ]
     },
     "execution_count": 272,
     "metadata": {},
     "output_type": "execute_result"
    }
   ],
   "source": [
    "#convert to an array and turn into float and save\n",
    "np_array = size_status.values.astype(\"float32\",copy=False)\n",
    "np_array"
   ]
  },
  {
   "cell_type": "markdown",
   "id": "bc545930-bb2c-4af7-850e-74c49476e8be",
   "metadata": {},
   "source": [
    "## 3. Scale"
   ]
  },
  {
   "cell_type": "code",
   "execution_count": 273,
   "id": "5994f0b4-8b0d-40c5-8a40-9c2b8477c9cf",
   "metadata": {},
   "outputs": [
    {
     "data": {
      "text/plain": [
       "(24226, 2)"
      ]
     },
     "execution_count": 273,
     "metadata": {},
     "output_type": "execute_result"
    }
   ],
   "source": [
    "# MAKE the scaler\n",
    "minmax = MinMaxScaler()\n",
    "\n",
    "# FIT/transform the scaler\n",
    "size_status_scaled = minmax.fit_transform(np_array)\n",
    "\n",
    "size_status_scaled.shape"
   ]
  },
  {
   "cell_type": "code",
   "execution_count": 274,
   "id": "c2ef74a5-b7bc-49c8-b37a-8e1d676d2396",
   "metadata": {},
   "outputs": [
    {
     "data": {
      "text/plain": [
       "['scaled_size', 'scaled_status_code']"
      ]
     },
     "execution_count": 274,
     "metadata": {},
     "output_type": "execute_result"
    }
   ],
   "source": [
    "# using list comprehesion to get new column names\n",
    "[\"scaled_\"+column for column in size_status]"
   ]
  },
  {
   "cell_type": "code",
   "execution_count": 275,
   "id": "e3b36464-bb68-4dcc-81f8-8a8f0dfb0173",
   "metadata": {},
   "outputs": [],
   "source": [
    "# Now, let's add the scaled value columns back onto the dataframe\n",
    "scaled_columns = [\"scaled_\"+column for column in size_status]"
   ]
  },
  {
   "cell_type": "code",
   "execution_count": 276,
   "id": "ec664aaa-230d-4f95-affc-a79affc82c0e",
   "metadata": {},
   "outputs": [],
   "source": [
    "# Save a copy of the original dataframe\n",
    "original_df = df.copy()"
   ]
  },
  {
   "cell_type": "code",
   "execution_count": 277,
   "id": "f18ec56b-5255-44ef-bf4c-14243a61789b",
   "metadata": {},
   "outputs": [],
   "source": [
    "# Create a dataframe containing the scaled array of values\n",
    "scaled_df = pd.DataFrame(size_status_scaled, columns = scaled_columns)"
   ]
  },
  {
   "cell_type": "code",
   "execution_count": 278,
   "id": "2d877799-97e1-4955-b0c7-67b161a7d145",
   "metadata": {},
   "outputs": [
    {
     "data": {
      "text/html": [
       "<div>\n",
       "<style scoped>\n",
       "    .dataframe tbody tr th:only-of-type {\n",
       "        vertical-align: middle;\n",
       "    }\n",
       "\n",
       "    .dataframe tbody tr th {\n",
       "        vertical-align: top;\n",
       "    }\n",
       "\n",
       "    .dataframe thead th {\n",
       "        text-align: right;\n",
       "    }\n",
       "</style>\n",
       "<table border=\"1\" class=\"dataframe\">\n",
       "  <thead>\n",
       "    <tr style=\"text-align: right;\">\n",
       "      <th></th>\n",
       "      <th>scaled_size</th>\n",
       "      <th>scaled_status_code</th>\n",
       "    </tr>\n",
       "  </thead>\n",
       "  <tbody>\n",
       "    <tr>\n",
       "      <th>0</th>\n",
       "      <td>0.997584</td>\n",
       "      <td>0.0</td>\n",
       "    </tr>\n",
       "    <tr>\n",
       "      <th>1</th>\n",
       "      <td>0.997584</td>\n",
       "      <td>0.0</td>\n",
       "    </tr>\n",
       "    <tr>\n",
       "      <th>2</th>\n",
       "      <td>0.006932</td>\n",
       "      <td>0.0</td>\n",
       "    </tr>\n",
       "    <tr>\n",
       "      <th>3</th>\n",
       "      <td>0.006932</td>\n",
       "      <td>0.0</td>\n",
       "    </tr>\n",
       "    <tr>\n",
       "      <th>4</th>\n",
       "      <td>0.992928</td>\n",
       "      <td>0.0</td>\n",
       "    </tr>\n",
       "    <tr>\n",
       "      <th>...</th>\n",
       "      <td>...</td>\n",
       "      <td>...</td>\n",
       "    </tr>\n",
       "    <tr>\n",
       "      <th>24221</th>\n",
       "      <td>0.996195</td>\n",
       "      <td>0.0</td>\n",
       "    </tr>\n",
       "    <tr>\n",
       "      <th>24222</th>\n",
       "      <td>0.996195</td>\n",
       "      <td>0.0</td>\n",
       "    </tr>\n",
       "    <tr>\n",
       "      <th>24223</th>\n",
       "      <td>0.992993</td>\n",
       "      <td>0.0</td>\n",
       "    </tr>\n",
       "    <tr>\n",
       "      <th>24224</th>\n",
       "      <td>0.992993</td>\n",
       "      <td>0.0</td>\n",
       "    </tr>\n",
       "    <tr>\n",
       "      <th>24225</th>\n",
       "      <td>0.993051</td>\n",
       "      <td>0.0</td>\n",
       "    </tr>\n",
       "  </tbody>\n",
       "</table>\n",
       "<p>24226 rows × 2 columns</p>\n",
       "</div>"
      ],
      "text/plain": [
       "       scaled_size  scaled_status_code\n",
       "0         0.997584                 0.0\n",
       "1         0.997584                 0.0\n",
       "2         0.006932                 0.0\n",
       "3         0.006932                 0.0\n",
       "4         0.992928                 0.0\n",
       "...            ...                 ...\n",
       "24221     0.996195                 0.0\n",
       "24222     0.996195                 0.0\n",
       "24223     0.992993                 0.0\n",
       "24224     0.992993                 0.0\n",
       "24225     0.993051                 0.0\n",
       "\n",
       "[24226 rows x 2 columns]"
      ]
     },
     "execution_count": 278,
     "metadata": {},
     "output_type": "execute_result"
    }
   ],
   "source": [
    "scaled_df"
   ]
  },
  {
   "cell_type": "code",
   "execution_count": 279,
   "id": "ad60e058-bcb8-4cf1-b9ee-4bb14f31fe8a",
   "metadata": {},
   "outputs": [],
   "source": [
    "# Merge the scaled and non-scaled values into one dataframe\n",
    "df = df.merge(scaled_df, on=df.index)\n",
    "df = df.drop(columns={'key_0'})"
   ]
  },
  {
   "cell_type": "code",
   "execution_count": 280,
   "id": "7cda859f-391d-4879-ac6d-ce8597ec2314",
   "metadata": {},
   "outputs": [
    {
     "data": {
      "text/html": [
       "<div>\n",
       "<style scoped>\n",
       "    .dataframe tbody tr th:only-of-type {\n",
       "        vertical-align: middle;\n",
       "    }\n",
       "\n",
       "    .dataframe tbody tr th {\n",
       "        vertical-align: top;\n",
       "    }\n",
       "\n",
       "    .dataframe thead th {\n",
       "        text-align: right;\n",
       "    }\n",
       "</style>\n",
       "<table border=\"1\" class=\"dataframe\">\n",
       "  <thead>\n",
       "    <tr style=\"text-align: right;\">\n",
       "      <th></th>\n",
       "      <th>ip</th>\n",
       "      <th>request_method</th>\n",
       "      <th>request_path</th>\n",
       "      <th>http_version</th>\n",
       "      <th>status_code</th>\n",
       "      <th>size</th>\n",
       "      <th>user_agent</th>\n",
       "      <th>Scaled_size</th>\n",
       "      <th>Scaled_status_code</th>\n",
       "      <th>scaled_size</th>\n",
       "      <th>scaled_status_code</th>\n",
       "    </tr>\n",
       "  </thead>\n",
       "  <tbody>\n",
       "    <tr>\n",
       "      <th>0</th>\n",
       "      <td>97.105.19.58</td>\n",
       "      <td>GET</td>\n",
       "      <td>/api/v1/sales?page=81</td>\n",
       "      <td>HTTP/1.1</td>\n",
       "      <td>200</td>\n",
       "      <td>512495</td>\n",
       "      <td>python-requests/2.21.0</td>\n",
       "      <td>0.997584</td>\n",
       "      <td>0.0</td>\n",
       "      <td>0.997584</td>\n",
       "      <td>0.0</td>\n",
       "    </tr>\n",
       "    <tr>\n",
       "      <th>1</th>\n",
       "      <td>97.105.19.58</td>\n",
       "      <td>GET</td>\n",
       "      <td>/api/v1/sales?page=81</td>\n",
       "      <td>HTTP/1.1</td>\n",
       "      <td>200</td>\n",
       "      <td>512495</td>\n",
       "      <td>python-requests/2.21.0</td>\n",
       "      <td>0.006932</td>\n",
       "      <td>0.0</td>\n",
       "      <td>0.997584</td>\n",
       "      <td>0.0</td>\n",
       "    </tr>\n",
       "    <tr>\n",
       "      <th>2</th>\n",
       "      <td>97.105.19.58</td>\n",
       "      <td>GET</td>\n",
       "      <td>/api/v1/items</td>\n",
       "      <td>HTTP/1.1</td>\n",
       "      <td>200</td>\n",
       "      <td>3561</td>\n",
       "      <td>python-requests/2.21.0</td>\n",
       "      <td>0.997584</td>\n",
       "      <td>0.0</td>\n",
       "      <td>0.006932</td>\n",
       "      <td>0.0</td>\n",
       "    </tr>\n",
       "    <tr>\n",
       "      <th>3</th>\n",
       "      <td>97.105.19.58</td>\n",
       "      <td>GET</td>\n",
       "      <td>/api/v1/items</td>\n",
       "      <td>HTTP/1.1</td>\n",
       "      <td>200</td>\n",
       "      <td>3561</td>\n",
       "      <td>python-requests/2.21.0</td>\n",
       "      <td>0.006932</td>\n",
       "      <td>0.0</td>\n",
       "      <td>0.006932</td>\n",
       "      <td>0.0</td>\n",
       "    </tr>\n",
       "    <tr>\n",
       "      <th>4</th>\n",
       "      <td>97.105.19.58</td>\n",
       "      <td>GET</td>\n",
       "      <td>/api/v1/sales?page=82</td>\n",
       "      <td>HTTP/1.1</td>\n",
       "      <td>200</td>\n",
       "      <td>510103</td>\n",
       "      <td>python-requests/2.21.0</td>\n",
       "      <td>0.992928</td>\n",
       "      <td>0.0</td>\n",
       "      <td>0.992928</td>\n",
       "      <td>0.0</td>\n",
       "    </tr>\n",
       "  </tbody>\n",
       "</table>\n",
       "</div>"
      ],
      "text/plain": [
       "             ip request_method           request_path http_version  \\\n",
       "0  97.105.19.58            GET  /api/v1/sales?page=81     HTTP/1.1   \n",
       "1  97.105.19.58            GET  /api/v1/sales?page=81     HTTP/1.1   \n",
       "2  97.105.19.58            GET          /api/v1/items     HTTP/1.1   \n",
       "3  97.105.19.58            GET          /api/v1/items     HTTP/1.1   \n",
       "4  97.105.19.58            GET  /api/v1/sales?page=82     HTTP/1.1   \n",
       "\n",
       "  status_code    size              user_agent  Scaled_size  \\\n",
       "0         200  512495  python-requests/2.21.0     0.997584   \n",
       "1         200  512495  python-requests/2.21.0     0.006932   \n",
       "2         200    3561  python-requests/2.21.0     0.997584   \n",
       "3         200    3561  python-requests/2.21.0     0.006932   \n",
       "4         200  510103  python-requests/2.21.0     0.992928   \n",
       "\n",
       "   Scaled_status_code  scaled_size  scaled_status_code  \n",
       "0                 0.0     0.997584                 0.0  \n",
       "1                 0.0     0.997584                 0.0  \n",
       "2                 0.0     0.006932                 0.0  \n",
       "3                 0.0     0.006932                 0.0  \n",
       "4                 0.0     0.992928                 0.0  "
      ]
     },
     "execution_count": 280,
     "metadata": {},
     "output_type": "execute_result"
    }
   ],
   "source": [
    "df.head()"
   ]
  },
  {
   "cell_type": "markdown",
   "id": "30b6ef9b-4122-4abd-a379-891b7d9beb68",
   "metadata": {},
   "source": [
    "### Step 4. Make the DBSCAN"
   ]
  },
  {
   "cell_type": "code",
   "execution_count": 281,
   "id": "e8c7c921-9839-48dc-ab5d-74c43095bcb2",
   "metadata": {},
   "outputs": [
    {
     "data": {
      "text/plain": [
       "DBSCAN(eps=0.1, min_samples=10)"
      ]
     },
     "execution_count": 281,
     "metadata": {},
     "output_type": "execute_result"
    }
   ],
   "source": [
    "# Make the object\n",
    "dbsc = DBSCAN(eps=.1, min_samples=10)\n",
    "\n",
    "# Fit the object\n",
    "dbsc.fit(size_status_scaled)"
   ]
  },
  {
   "cell_type": "markdown",
   "id": "17f81ad0-c263-40a8-8b3f-f9d566cbb44e",
   "metadata": {},
   "source": [
    "### Step 5. Get Labels"
   ]
  },
  {
   "cell_type": "code",
   "execution_count": 282,
   "id": "11516cb9-8394-4b06-ad22-1e1184b4aa66",
   "metadata": {},
   "outputs": [
    {
     "data": {
      "text/plain": [
       "array([0, 0, 1, ..., 0, 0, 0])"
      ]
     },
     "execution_count": 282,
     "metadata": {},
     "output_type": "execute_result"
    }
   ],
   "source": [
    "# look at the labels\n",
    "dbsc.labels_"
   ]
  },
  {
   "cell_type": "markdown",
   "id": "7c2130f4-cf80-4b68-a227-ee51555ce499",
   "metadata": {},
   "source": [
    "### Step 6. Add back to original"
   ]
  },
  {
   "cell_type": "code",
   "execution_count": 283,
   "id": "d23c419a-0a82-43c0-a2ba-fb524494f96c",
   "metadata": {},
   "outputs": [],
   "source": [
    "# Assign the cluster labels\n",
    "df['size_status_labels'] = dbsc.labels_"
   ]
  },
  {
   "cell_type": "code",
   "execution_count": 284,
   "id": "ce94bbef-0535-432c-ba10-c09eb63c11f8",
   "metadata": {},
   "outputs": [
    {
     "data": {
      "text/html": [
       "<div>\n",
       "<style scoped>\n",
       "    .dataframe tbody tr th:only-of-type {\n",
       "        vertical-align: middle;\n",
       "    }\n",
       "\n",
       "    .dataframe tbody tr th {\n",
       "        vertical-align: top;\n",
       "    }\n",
       "\n",
       "    .dataframe thead th {\n",
       "        text-align: right;\n",
       "    }\n",
       "</style>\n",
       "<table border=\"1\" class=\"dataframe\">\n",
       "  <thead>\n",
       "    <tr style=\"text-align: right;\">\n",
       "      <th></th>\n",
       "      <th>ip</th>\n",
       "      <th>request_method</th>\n",
       "      <th>request_path</th>\n",
       "      <th>http_version</th>\n",
       "      <th>status_code</th>\n",
       "      <th>size</th>\n",
       "      <th>user_agent</th>\n",
       "      <th>Scaled_size</th>\n",
       "      <th>Scaled_status_code</th>\n",
       "      <th>scaled_size</th>\n",
       "      <th>scaled_status_code</th>\n",
       "      <th>size_status_labels</th>\n",
       "    </tr>\n",
       "  </thead>\n",
       "  <tbody>\n",
       "    <tr>\n",
       "      <th>10286</th>\n",
       "      <td>97.105.19.58</td>\n",
       "      <td>GET</td>\n",
       "      <td>/api/v1/sales?page=154</td>\n",
       "      <td>HTTP/1.1</td>\n",
       "      <td>200</td>\n",
       "      <td>511986</td>\n",
       "      <td>python-requests/2.21.0</td>\n",
       "      <td>0.996594</td>\n",
       "      <td>0.0</td>\n",
       "      <td>0.996594</td>\n",
       "      <td>0.0</td>\n",
       "      <td>0</td>\n",
       "    </tr>\n",
       "    <tr>\n",
       "      <th>15094</th>\n",
       "      <td>97.105.19.58</td>\n",
       "      <td>GET</td>\n",
       "      <td>/api/v1/sales?page=161</td>\n",
       "      <td>HTTP/1.1</td>\n",
       "      <td>200</td>\n",
       "      <td>512079</td>\n",
       "      <td>python-requests/2.21.0</td>\n",
       "      <td>0.992804</td>\n",
       "      <td>0.0</td>\n",
       "      <td>0.996775</td>\n",
       "      <td>0.0</td>\n",
       "      <td>0</td>\n",
       "    </tr>\n",
       "    <tr>\n",
       "      <th>12084</th>\n",
       "      <td>97.105.19.58</td>\n",
       "      <td>GET</td>\n",
       "      <td>/api/v1/sales?page=64</td>\n",
       "      <td>HTTP/1.1</td>\n",
       "      <td>200</td>\n",
       "      <td>511251</td>\n",
       "      <td>python-requests/2.21.0</td>\n",
       "      <td>0.995163</td>\n",
       "      <td>0.0</td>\n",
       "      <td>0.995163</td>\n",
       "      <td>0.0</td>\n",
       "      <td>0</td>\n",
       "    </tr>\n",
       "    <tr>\n",
       "      <th>7723</th>\n",
       "      <td>97.105.19.58</td>\n",
       "      <td>GET</td>\n",
       "      <td>/api/v1/stores?page=3</td>\n",
       "      <td>HTTP/1.1</td>\n",
       "      <td>200</td>\n",
       "      <td>1328</td>\n",
       "      <td>python-requests/2.21.0</td>\n",
       "      <td>0.002585</td>\n",
       "      <td>0.0</td>\n",
       "      <td>0.002585</td>\n",
       "      <td>0.0</td>\n",
       "      <td>1</td>\n",
       "    </tr>\n",
       "    <tr>\n",
       "      <th>9806</th>\n",
       "      <td>97.105.19.58</td>\n",
       "      <td>GET</td>\n",
       "      <td>/api/v1/sales?page=126</td>\n",
       "      <td>HTTP/1.1</td>\n",
       "      <td>200</td>\n",
       "      <td>510458</td>\n",
       "      <td>python-requests/2.21.0</td>\n",
       "      <td>0.000000</td>\n",
       "      <td>1.0</td>\n",
       "      <td>0.993619</td>\n",
       "      <td>0.0</td>\n",
       "      <td>0</td>\n",
       "    </tr>\n",
       "  </tbody>\n",
       "</table>\n",
       "</div>"
      ],
      "text/plain": [
       "                 ip request_method            request_path http_version  \\\n",
       "10286  97.105.19.58            GET  /api/v1/sales?page=154     HTTP/1.1   \n",
       "15094  97.105.19.58            GET  /api/v1/sales?page=161     HTTP/1.1   \n",
       "12084  97.105.19.58            GET   /api/v1/sales?page=64     HTTP/1.1   \n",
       "7723   97.105.19.58            GET   /api/v1/stores?page=3     HTTP/1.1   \n",
       "9806   97.105.19.58            GET  /api/v1/sales?page=126     HTTP/1.1   \n",
       "\n",
       "      status_code    size              user_agent  Scaled_size  \\\n",
       "10286         200  511986  python-requests/2.21.0     0.996594   \n",
       "15094         200  512079  python-requests/2.21.0     0.992804   \n",
       "12084         200  511251  python-requests/2.21.0     0.995163   \n",
       "7723          200    1328  python-requests/2.21.0     0.002585   \n",
       "9806          200  510458  python-requests/2.21.0     0.000000   \n",
       "\n",
       "       Scaled_status_code  scaled_size  scaled_status_code  size_status_labels  \n",
       "10286                 0.0     0.996594                 0.0                   0  \n",
       "15094                 0.0     0.996775                 0.0                   0  \n",
       "12084                 0.0     0.995163                 0.0                   0  \n",
       "7723                  0.0     0.002585                 0.0                   1  \n",
       "9806                  1.0     0.993619                 0.0                   0  "
      ]
     },
     "execution_count": 284,
     "metadata": {},
     "output_type": "execute_result"
    }
   ],
   "source": [
    "#see what this dataframe looks like\n",
    "df.sample(5)"
   ]
  },
  {
   "cell_type": "markdown",
   "id": "be8ad093-84e8-4732-a152-c4df3748e637",
   "metadata": {},
   "source": [
    "### Step 7. Explore"
   ]
  },
  {
   "cell_type": "code",
   "execution_count": 285,
   "id": "e23a49ba-100d-4332-98a5-63dbda62b357",
   "metadata": {},
   "outputs": [
    {
     "data": {
      "text/plain": [
       " 0    19821\n",
       " 1     4235\n",
       " 2      127\n",
       " 3       35\n",
       "-1        8\n",
       "Name: size_status_labels, dtype: int64"
      ]
     },
     "execution_count": 285,
     "metadata": {},
     "output_type": "execute_result"
    }
   ],
   "source": [
    "#let's see what labels holds\n",
    "df.size_status_labels.value_counts()"
   ]
  },
  {
   "cell_type": "code",
   "execution_count": 286,
   "id": "8fd0b6bc-6861-4038-aba5-5c5a31509ddf",
   "metadata": {},
   "outputs": [
    {
     "name": "stdout",
     "output_type": "stream",
     "text": [
      "('size', 'status_code')\n"
     ]
    }
   ],
   "source": [
    "# looking at all possible combinations\n",
    "for combination in itertools.combinations(size_status.columns, 2):\n",
    "    print(combination)"
   ]
  },
  {
   "cell_type": "code",
   "execution_count": 287,
   "id": "6dc966b9-ef93-4088-9431-f80fa31bf319",
   "metadata": {},
   "outputs": [
    {
     "data": {
      "image/png": "[encoded data removed]",
      "text/plain": [
       "<Figure size 640x480 with 1 Axes>"
      ]
     },
     "metadata": {},
     "output_type": "display_data"
    }
   ],
   "source": [
    "# plot results\n",
    "for combination in itertools.combinations(size_status.columns, 2):\n",
    "    sns.scatterplot(df[combination[0]], df[combination[1]], hue=df.size_status_labels)\n",
    "    plt.title(f\"{combination[0]} by {combination[1]} Cluster vs. Outliers\")\n",
    "    plt.show()"
   ]
  },
  {
   "cell_type": "markdown",
   "id": "64627647-8f30-45a1-b70b-6e8912aec475",
   "metadata": {},
   "source": [
    "# 3. Use DBSCAN to detect anomalies in number of bedrooms and finished square feet of property for the filtered dataset you used in the <a href=\"https://ds.codeup.com/clustering/explore/#exercises\">clustering evaluation exercises</a> (single unit properties with a logerror)."
   ]
  },
  {
   "cell_type": "code",
   "execution_count": 323,
   "id": "fb774765-f872-4f38-834e-a7ddec36c106",
   "metadata": {},
   "outputs": [
    {
     "name": "stdout",
     "output_type": "stream",
     "text": [
      "Load in successful, awaiting commands...\n"
     ]
    }
   ],
   "source": [
    "def get_connection(db):\n",
    "    '''This functions grants access to server with eny credentials'''\n",
    "    return f'mysql+pymysql://{env.user}:{env.password}@{env.host}/{db}'\n",
    "\n",
    "def check_file_exists(fn, query, url):\n",
    "    '''check if file exists in my local directory, if not, pull from sql db\n",
    "    return dataframe'''\n",
    "    if os.path.isfile(fn):\n",
    "        print('CSV file found and loaded')\n",
    "        return pd.read_csv(fn, index_col=0)\n",
    "    else: \n",
    "        print('Creating df and exporting CSV...')\n",
    "        df = pd.read_sql(query, url)\n",
    "        df.to_csv(fn)\n",
    "        return df \n",
    "print(f'Load in successful, awaiting commands...')\n",
    "\n",
    "def get_zillow():\n",
    "    url = env.get_connection('zillow')\n",
    "    query = \"\"\"SELECT bedroomcnt, bathroomcnt, calculatedfinishedsquarefeet,\n",
    "            taxvaluedollarcnt, fips, transactiondate, parcelid\n",
    "            FROM properties_2017\n",
    "            JOIN predictions_2017 using (parcelid)\n",
    "            WHERE propertylandusetypeid like 261;\"\"\"\n",
    "    filename = 'zillow.csv'\n",
    "    df = check_file_exists(filename, query, url)\n",
    "\n",
    "    return df\n",
    "\n",
    "# -------------------------------------------------------------------------\n",
    "\n",
    "#  EXPLORE\n",
    "\n",
    "def wrangle_zillow(df):\n",
    "    \"\"\"This function is meant to clean and return the prepared df with identifying\n",
    "    and removing outliers.\n",
    "    ---\n",
    "    Further shrinking the outliers to prevent skewing of the data for the \n",
    "    target audience.\n",
    "    \"\"\"\n",
    "    print(f\"Prepare Details\")\n",
    "    \n",
    "    # rename columns\n",
    "    df = df.rename(columns = {'bedroomcnt':'bed', 'bathroomcnt':'bath', 'calculatedfinishedsquarefeet':\\\n",
    "    'sqft', 'taxvaluedollarcnt': 'assessed_worth', 'fips':'county', 'transactiondate':'date'})\n",
    "    print(f\"--------------------------------------------\")\n",
    "    print(f\"Renamed columns for ease of use\")\n",
    "\n",
    "    # drop parcelid and use (used for initial exploration only)\n",
    "    df = df.drop(columns=['parcelid'])\n",
    "\n",
    "    # drop all nulls\n",
    "    df_clean = df.dropna()\n",
    "    print(f\"Nulls removed: Percent Original Data Remaining: {round(df_clean.shape[0]/df.shape[0]*100,0)}\")\n",
    "\n",
    "    # change data types and map FIPS code\n",
    "    df_clean.county = df_clean.county.map({6037:\"LA\", 6059:\"Orange\", 6111:\"Ventura\"})\n",
    "    df_clean.bed = df_clean.bed.astype(int)\n",
    "    print(f\"Bed datatype changed from float to integer\\nChanged FIPS code to actual county name\")\n",
    "    print(f\"--------------------------------------------\")\n",
    "    \n",
    "    return df_clean"
   ]
  },
  {
   "cell_type": "code",
   "execution_count": 324,
   "id": "fe14d0b3-f009-4822-b5f4-dd83d1c03767",
   "metadata": {},
   "outputs": [
    {
     "name": "stdout",
     "output_type": "stream",
     "text": [
      "CSV file found and loaded\n"
     ]
    },
    {
     "data": {
      "text/html": [
       "<div>\n",
       "<style scoped>\n",
       "    .dataframe tbody tr th:only-of-type {\n",
       "        vertical-align: middle;\n",
       "    }\n",
       "\n",
       "    .dataframe tbody tr th {\n",
       "        vertical-align: top;\n",
       "    }\n",
       "\n",
       "    .dataframe thead th {\n",
       "        text-align: right;\n",
       "    }\n",
       "</style>\n",
       "<table border=\"1\" class=\"dataframe\">\n",
       "  <thead>\n",
       "    <tr style=\"text-align: right;\">\n",
       "      <th></th>\n",
       "      <th>bedroomcnt</th>\n",
       "      <th>bathroomcnt</th>\n",
       "      <th>calculatedfinishedsquarefeet</th>\n",
       "      <th>taxvaluedollarcnt</th>\n",
       "      <th>fips</th>\n",
       "      <th>transactiondate</th>\n",
       "      <th>parcelid</th>\n",
       "    </tr>\n",
       "  </thead>\n",
       "  <tbody>\n",
       "    <tr>\n",
       "      <th>0</th>\n",
       "      <td>4.0</td>\n",
       "      <td>3.5</td>\n",
       "      <td>3100.0</td>\n",
       "      <td>1023282.0</td>\n",
       "      <td>6059.0</td>\n",
       "      <td>2017-01-01</td>\n",
       "      <td>14297519</td>\n",
       "    </tr>\n",
       "    <tr>\n",
       "      <th>1</th>\n",
       "      <td>2.0</td>\n",
       "      <td>1.0</td>\n",
       "      <td>1465.0</td>\n",
       "      <td>464000.0</td>\n",
       "      <td>6111.0</td>\n",
       "      <td>2017-01-01</td>\n",
       "      <td>17052889</td>\n",
       "    </tr>\n",
       "    <tr>\n",
       "      <th>2</th>\n",
       "      <td>3.0</td>\n",
       "      <td>2.0</td>\n",
       "      <td>1243.0</td>\n",
       "      <td>564778.0</td>\n",
       "      <td>6059.0</td>\n",
       "      <td>2017-01-01</td>\n",
       "      <td>14186244</td>\n",
       "    </tr>\n",
       "    <tr>\n",
       "      <th>3</th>\n",
       "      <td>4.0</td>\n",
       "      <td>3.0</td>\n",
       "      <td>2376.0</td>\n",
       "      <td>145143.0</td>\n",
       "      <td>6037.0</td>\n",
       "      <td>2017-01-01</td>\n",
       "      <td>12177905</td>\n",
       "    </tr>\n",
       "    <tr>\n",
       "      <th>4</th>\n",
       "      <td>4.0</td>\n",
       "      <td>3.0</td>\n",
       "      <td>2962.0</td>\n",
       "      <td>773303.0</td>\n",
       "      <td>6037.0</td>\n",
       "      <td>2017-01-01</td>\n",
       "      <td>12095076</td>\n",
       "    </tr>\n",
       "    <tr>\n",
       "      <th>...</th>\n",
       "      <td>...</td>\n",
       "      <td>...</td>\n",
       "      <td>...</td>\n",
       "      <td>...</td>\n",
       "      <td>...</td>\n",
       "      <td>...</td>\n",
       "      <td>...</td>\n",
       "    </tr>\n",
       "    <tr>\n",
       "      <th>52437</th>\n",
       "      <td>2.0</td>\n",
       "      <td>2.0</td>\n",
       "      <td>1286.0</td>\n",
       "      <td>354621.0</td>\n",
       "      <td>6037.0</td>\n",
       "      <td>2017-09-20</td>\n",
       "      <td>11000655</td>\n",
       "    </tr>\n",
       "    <tr>\n",
       "      <th>52438</th>\n",
       "      <td>4.0</td>\n",
       "      <td>2.0</td>\n",
       "      <td>1612.0</td>\n",
       "      <td>67205.0</td>\n",
       "      <td>6111.0</td>\n",
       "      <td>2017-09-21</td>\n",
       "      <td>17239384</td>\n",
       "    </tr>\n",
       "    <tr>\n",
       "      <th>52439</th>\n",
       "      <td>3.0</td>\n",
       "      <td>1.0</td>\n",
       "      <td>1032.0</td>\n",
       "      <td>49546.0</td>\n",
       "      <td>6037.0</td>\n",
       "      <td>2017-09-21</td>\n",
       "      <td>12773139</td>\n",
       "    </tr>\n",
       "    <tr>\n",
       "      <th>52440</th>\n",
       "      <td>3.0</td>\n",
       "      <td>2.0</td>\n",
       "      <td>1762.0</td>\n",
       "      <td>522000.0</td>\n",
       "      <td>6037.0</td>\n",
       "      <td>2017-09-25</td>\n",
       "      <td>12826780</td>\n",
       "    </tr>\n",
       "    <tr>\n",
       "      <th>52441</th>\n",
       "      <td>3.0</td>\n",
       "      <td>2.0</td>\n",
       "      <td>1050.0</td>\n",
       "      <td>259334.0</td>\n",
       "      <td>6037.0</td>\n",
       "      <td>2018-05-25</td>\n",
       "      <td>13083743</td>\n",
       "    </tr>\n",
       "  </tbody>\n",
       "</table>\n",
       "<p>52442 rows × 7 columns</p>\n",
       "</div>"
      ],
      "text/plain": [
       "       bedroomcnt  bathroomcnt  calculatedfinishedsquarefeet  \\\n",
       "0             4.0          3.5                        3100.0   \n",
       "1             2.0          1.0                        1465.0   \n",
       "2             3.0          2.0                        1243.0   \n",
       "3             4.0          3.0                        2376.0   \n",
       "4             4.0          3.0                        2962.0   \n",
       "...           ...          ...                           ...   \n",
       "52437         2.0          2.0                        1286.0   \n",
       "52438         4.0          2.0                        1612.0   \n",
       "52439         3.0          1.0                        1032.0   \n",
       "52440         3.0          2.0                        1762.0   \n",
       "52441         3.0          2.0                        1050.0   \n",
       "\n",
       "       taxvaluedollarcnt    fips transactiondate  parcelid  \n",
       "0              1023282.0  6059.0      2017-01-01  14297519  \n",
       "1               464000.0  6111.0      2017-01-01  17052889  \n",
       "2               564778.0  6059.0      2017-01-01  14186244  \n",
       "3               145143.0  6037.0      2017-01-01  12177905  \n",
       "4               773303.0  6037.0      2017-01-01  12095076  \n",
       "...                  ...     ...             ...       ...  \n",
       "52437           354621.0  6037.0      2017-09-20  11000655  \n",
       "52438            67205.0  6111.0      2017-09-21  17239384  \n",
       "52439            49546.0  6037.0      2017-09-21  12773139  \n",
       "52440           522000.0  6037.0      2017-09-25  12826780  \n",
       "52441           259334.0  6037.0      2018-05-25  13083743  \n",
       "\n",
       "[52442 rows x 7 columns]"
      ]
     },
     "execution_count": 324,
     "metadata": {},
     "output_type": "execute_result"
    }
   ],
   "source": [
    "df1 = get_zillow()\n",
    "df1"
   ]
  },
  {
   "cell_type": "code",
   "execution_count": 325,
   "id": "7ec254f7-333e-42f1-81d7-3b3c35f4cd45",
   "metadata": {},
   "outputs": [
    {
     "name": "stdout",
     "output_type": "stream",
     "text": [
      "Prepare Details\n",
      "--------------------------------------------\n",
      "Renamed columns for ease of use\n",
      "Nulls removed: Percent Original Data Remaining: 100.0\n",
      "Bed datatype changed from float to integer\n",
      "Changed FIPS code to actual county name\n",
      "--------------------------------------------\n"
     ]
    },
    {
     "data": {
      "text/html": [
       "<div>\n",
       "<style scoped>\n",
       "    .dataframe tbody tr th:only-of-type {\n",
       "        vertical-align: middle;\n",
       "    }\n",
       "\n",
       "    .dataframe tbody tr th {\n",
       "        vertical-align: top;\n",
       "    }\n",
       "\n",
       "    .dataframe thead th {\n",
       "        text-align: right;\n",
       "    }\n",
       "</style>\n",
       "<table border=\"1\" class=\"dataframe\">\n",
       "  <thead>\n",
       "    <tr style=\"text-align: right;\">\n",
       "      <th></th>\n",
       "      <th>bed</th>\n",
       "      <th>bath</th>\n",
       "      <th>sqft</th>\n",
       "      <th>assessed_worth</th>\n",
       "      <th>county</th>\n",
       "      <th>date</th>\n",
       "    </tr>\n",
       "  </thead>\n",
       "  <tbody>\n",
       "    <tr>\n",
       "      <th>0</th>\n",
       "      <td>4</td>\n",
       "      <td>3.5</td>\n",
       "      <td>3100.0</td>\n",
       "      <td>1023282.0</td>\n",
       "      <td>Orange</td>\n",
       "      <td>2017-01-01</td>\n",
       "    </tr>\n",
       "    <tr>\n",
       "      <th>1</th>\n",
       "      <td>2</td>\n",
       "      <td>1.0</td>\n",
       "      <td>1465.0</td>\n",
       "      <td>464000.0</td>\n",
       "      <td>Ventura</td>\n",
       "      <td>2017-01-01</td>\n",
       "    </tr>\n",
       "    <tr>\n",
       "      <th>2</th>\n",
       "      <td>3</td>\n",
       "      <td>2.0</td>\n",
       "      <td>1243.0</td>\n",
       "      <td>564778.0</td>\n",
       "      <td>Orange</td>\n",
       "      <td>2017-01-01</td>\n",
       "    </tr>\n",
       "    <tr>\n",
       "      <th>3</th>\n",
       "      <td>4</td>\n",
       "      <td>3.0</td>\n",
       "      <td>2376.0</td>\n",
       "      <td>145143.0</td>\n",
       "      <td>LA</td>\n",
       "      <td>2017-01-01</td>\n",
       "    </tr>\n",
       "    <tr>\n",
       "      <th>4</th>\n",
       "      <td>4</td>\n",
       "      <td>3.0</td>\n",
       "      <td>2962.0</td>\n",
       "      <td>773303.0</td>\n",
       "      <td>LA</td>\n",
       "      <td>2017-01-01</td>\n",
       "    </tr>\n",
       "    <tr>\n",
       "      <th>...</th>\n",
       "      <td>...</td>\n",
       "      <td>...</td>\n",
       "      <td>...</td>\n",
       "      <td>...</td>\n",
       "      <td>...</td>\n",
       "      <td>...</td>\n",
       "    </tr>\n",
       "    <tr>\n",
       "      <th>52437</th>\n",
       "      <td>2</td>\n",
       "      <td>2.0</td>\n",
       "      <td>1286.0</td>\n",
       "      <td>354621.0</td>\n",
       "      <td>LA</td>\n",
       "      <td>2017-09-20</td>\n",
       "    </tr>\n",
       "    <tr>\n",
       "      <th>52438</th>\n",
       "      <td>4</td>\n",
       "      <td>2.0</td>\n",
       "      <td>1612.0</td>\n",
       "      <td>67205.0</td>\n",
       "      <td>Ventura</td>\n",
       "      <td>2017-09-21</td>\n",
       "    </tr>\n",
       "    <tr>\n",
       "      <th>52439</th>\n",
       "      <td>3</td>\n",
       "      <td>1.0</td>\n",
       "      <td>1032.0</td>\n",
       "      <td>49546.0</td>\n",
       "      <td>LA</td>\n",
       "      <td>2017-09-21</td>\n",
       "    </tr>\n",
       "    <tr>\n",
       "      <th>52440</th>\n",
       "      <td>3</td>\n",
       "      <td>2.0</td>\n",
       "      <td>1762.0</td>\n",
       "      <td>522000.0</td>\n",
       "      <td>LA</td>\n",
       "      <td>2017-09-25</td>\n",
       "    </tr>\n",
       "    <tr>\n",
       "      <th>52441</th>\n",
       "      <td>3</td>\n",
       "      <td>2.0</td>\n",
       "      <td>1050.0</td>\n",
       "      <td>259334.0</td>\n",
       "      <td>LA</td>\n",
       "      <td>2018-05-25</td>\n",
       "    </tr>\n",
       "  </tbody>\n",
       "</table>\n",
       "<p>52359 rows × 6 columns</p>\n",
       "</div>"
      ],
      "text/plain": [
       "       bed  bath    sqft  assessed_worth   county        date\n",
       "0        4   3.5  3100.0       1023282.0   Orange  2017-01-01\n",
       "1        2   1.0  1465.0        464000.0  Ventura  2017-01-01\n",
       "2        3   2.0  1243.0        564778.0   Orange  2017-01-01\n",
       "3        4   3.0  2376.0        145143.0       LA  2017-01-01\n",
       "4        4   3.0  2962.0        773303.0       LA  2017-01-01\n",
       "...    ...   ...     ...             ...      ...         ...\n",
       "52437    2   2.0  1286.0        354621.0       LA  2017-09-20\n",
       "52438    4   2.0  1612.0         67205.0  Ventura  2017-09-21\n",
       "52439    3   1.0  1032.0         49546.0       LA  2017-09-21\n",
       "52440    3   2.0  1762.0        522000.0       LA  2017-09-25\n",
       "52441    3   2.0  1050.0        259334.0       LA  2018-05-25\n",
       "\n",
       "[52359 rows x 6 columns]"
      ]
     },
     "execution_count": 325,
     "metadata": {},
     "output_type": "execute_result"
    }
   ],
   "source": [
    "df = wrangle_zillow(df1)\n",
    "df"
   ]
  },
  {
   "cell_type": "markdown",
   "id": "f68226b7-8ec6-40da-99f4-0070088e3066",
   "metadata": {},
   "source": [
    "## 1. Cluster on features"
   ]
  },
  {
   "cell_type": "code",
   "execution_count": 326,
   "id": "779b2c91-cfa8-49dc-a6d4-3e9540236978",
   "metadata": {},
   "outputs": [
    {
     "data": {
      "text/plain": [
       "(52359, 2)"
      ]
     },
     "execution_count": 326,
     "metadata": {},
     "output_type": "execute_result"
    }
   ],
   "source": [
    "# select features\n",
    "bed_sqft = df[['bed', 'sqft']]\n",
    "bed_sqft.shape"
   ]
  },
  {
   "cell_type": "markdown",
   "id": "64255d20-8505-4a23-a625-2ee9d960da4c",
   "metadata": {},
   "source": [
    "## 2. Array and Float"
   ]
  },
  {
   "cell_type": "code",
   "execution_count": 327,
   "id": "dd5458cb-0a76-475f-9ea3-9aee84d53a60",
   "metadata": {},
   "outputs": [
    {
     "data": {
      "text/plain": [
       "array([   4., 3100.], dtype=float32)"
      ]
     },
     "execution_count": 327,
     "metadata": {},
     "output_type": "execute_result"
    }
   ],
   "source": [
    "# changed types to array\n",
    "bed_sqft.values.astype(\"float32\",copy=False)[0]"
   ]
  },
  {
   "cell_type": "code",
   "execution_count": 328,
   "id": "39af65d0-746a-4cdd-9e0a-a8550324a2e7",
   "metadata": {},
   "outputs": [
    {
     "data": {
      "text/plain": [
       "array([[4.000e+00, 3.100e+03],\n",
       "       [2.000e+00, 1.465e+03],\n",
       "       [3.000e+00, 1.243e+03],\n",
       "       ...,\n",
       "       [3.000e+00, 1.032e+03],\n",
       "       [3.000e+00, 1.762e+03],\n",
       "       [3.000e+00, 1.050e+03]], dtype=float32)"
      ]
     },
     "execution_count": 328,
     "metadata": {},
     "output_type": "execute_result"
    }
   ],
   "source": [
    "#convert to an array and turn into float and save\n",
    "np_array = bed_sqft.values.astype(\"float32\",copy=False)\n",
    "np_array"
   ]
  },
  {
   "cell_type": "markdown",
   "id": "c0d9ec39-56b7-4393-b402-9711799f44dc",
   "metadata": {},
   "source": [
    "## 3. Scale"
   ]
  },
  {
   "cell_type": "code",
   "execution_count": 329,
   "id": "bd746e90-0378-4bef-a19a-22cffe371730",
   "metadata": {},
   "outputs": [
    {
     "data": {
      "text/plain": [
       "(52359, 2)"
      ]
     },
     "execution_count": 329,
     "metadata": {},
     "output_type": "execute_result"
    }
   ],
   "source": [
    "# MAKE the scaler\n",
    "minmax = MinMaxScaler()\n",
    "\n",
    "# FIT/transform the scaler\n",
    "bed_sqft_scaled = minmax.fit_transform(np_array)\n",
    "bed_sqft_scaled.shape"
   ]
  },
  {
   "cell_type": "code",
   "execution_count": 330,
   "id": "c30c7d39-1066-4b6d-86f5-7084cec786f1",
   "metadata": {},
   "outputs": [
    {
     "data": {
      "text/plain": [
       "['scaled_bed', 'scaled_sqft']"
      ]
     },
     "execution_count": 330,
     "metadata": {},
     "output_type": "execute_result"
    }
   ],
   "source": [
    "# using list comprehesion to get new column names\n",
    "[\"scaled_\"+column for column in bed_sqft]"
   ]
  },
  {
   "cell_type": "code",
   "execution_count": 331,
   "id": "047d30d0-398d-49c7-8059-7bdafb81e163",
   "metadata": {},
   "outputs": [],
   "source": [
    "# Now, let's add the scaled value columns back onto the dataframe\n",
    "scaled_columns = [\"scaled_\"+column for column in bed_sqft]"
   ]
  },
  {
   "cell_type": "code",
   "execution_count": 332,
   "id": "fdadbc32-3ab9-465a-9a92-44490a047fc2",
   "metadata": {},
   "outputs": [],
   "source": [
    "# Save a copy of the original dataframe\n",
    "original_df = df.copy()"
   ]
  },
  {
   "cell_type": "code",
   "execution_count": 333,
   "id": "e9f02faf-0275-41ca-b813-4068b01bb677",
   "metadata": {},
   "outputs": [],
   "source": [
    "# Create a dataframe containing the scaled array of values\n",
    "scaled_df = pd.DataFrame(bed_sqft_scaled, columns = scaled_columns)"
   ]
  },
  {
   "cell_type": "code",
   "execution_count": 334,
   "id": "2286f805-0b32-409e-b391-4626f16062b9",
   "metadata": {},
   "outputs": [
    {
     "data": {
      "text/html": [
       "<div>\n",
       "<style scoped>\n",
       "    .dataframe tbody tr th:only-of-type {\n",
       "        vertical-align: middle;\n",
       "    }\n",
       "\n",
       "    .dataframe tbody tr th {\n",
       "        vertical-align: top;\n",
       "    }\n",
       "\n",
       "    .dataframe thead th {\n",
       "        text-align: right;\n",
       "    }\n",
       "</style>\n",
       "<table border=\"1\" class=\"dataframe\">\n",
       "  <thead>\n",
       "    <tr style=\"text-align: right;\">\n",
       "      <th></th>\n",
       "      <th>scaled_bed</th>\n",
       "      <th>scaled_sqft</th>\n",
       "    </tr>\n",
       "  </thead>\n",
       "  <tbody>\n",
       "    <tr>\n",
       "      <th>0</th>\n",
       "      <td>0.285714</td>\n",
       "      <td>0.136324</td>\n",
       "    </tr>\n",
       "    <tr>\n",
       "      <th>1</th>\n",
       "      <td>0.142857</td>\n",
       "      <td>0.061327</td>\n",
       "    </tr>\n",
       "    <tr>\n",
       "      <th>2</th>\n",
       "      <td>0.214286</td>\n",
       "      <td>0.051144</td>\n",
       "    </tr>\n",
       "    <tr>\n",
       "      <th>3</th>\n",
       "      <td>0.285714</td>\n",
       "      <td>0.103115</td>\n",
       "    </tr>\n",
       "    <tr>\n",
       "      <th>4</th>\n",
       "      <td>0.285714</td>\n",
       "      <td>0.129994</td>\n",
       "    </tr>\n",
       "    <tr>\n",
       "      <th>...</th>\n",
       "      <td>...</td>\n",
       "      <td>...</td>\n",
       "    </tr>\n",
       "    <tr>\n",
       "      <th>52354</th>\n",
       "      <td>0.142857</td>\n",
       "      <td>0.053117</td>\n",
       "    </tr>\n",
       "    <tr>\n",
       "      <th>52355</th>\n",
       "      <td>0.285714</td>\n",
       "      <td>0.068070</td>\n",
       "    </tr>\n",
       "    <tr>\n",
       "      <th>52356</th>\n",
       "      <td>0.214286</td>\n",
       "      <td>0.041466</td>\n",
       "    </tr>\n",
       "    <tr>\n",
       "      <th>52357</th>\n",
       "      <td>0.214286</td>\n",
       "      <td>0.074951</td>\n",
       "    </tr>\n",
       "    <tr>\n",
       "      <th>52358</th>\n",
       "      <td>0.214286</td>\n",
       "      <td>0.042292</td>\n",
       "    </tr>\n",
       "  </tbody>\n",
       "</table>\n",
       "<p>52359 rows × 2 columns</p>\n",
       "</div>"
      ],
      "text/plain": [
       "       scaled_bed  scaled_sqft\n",
       "0        0.285714     0.136324\n",
       "1        0.142857     0.061327\n",
       "2        0.214286     0.051144\n",
       "3        0.285714     0.103115\n",
       "4        0.285714     0.129994\n",
       "...           ...          ...\n",
       "52354    0.142857     0.053117\n",
       "52355    0.285714     0.068070\n",
       "52356    0.214286     0.041466\n",
       "52357    0.214286     0.074951\n",
       "52358    0.214286     0.042292\n",
       "\n",
       "[52359 rows x 2 columns]"
      ]
     },
     "execution_count": 334,
     "metadata": {},
     "output_type": "execute_result"
    }
   ],
   "source": [
    "scaled_df"
   ]
  },
  {
   "cell_type": "code",
   "execution_count": 335,
   "id": "45a4749d-438c-4221-8a71-480a879b9869",
   "metadata": {},
   "outputs": [],
   "source": [
    "# Merge the scaled and non-scaled values into one dataframe\n",
    "df = df.merge(scaled_df, on=df.index)\n",
    "df = df.drop(columns={'key_0'})"
   ]
  },
  {
   "cell_type": "code",
   "execution_count": 336,
   "id": "aceb38f7-cd42-4bea-9bf4-a722a5ffbf51",
   "metadata": {},
   "outputs": [
    {
     "data": {
      "text/html": [
       "<div>\n",
       "<style scoped>\n",
       "    .dataframe tbody tr th:only-of-type {\n",
       "        vertical-align: middle;\n",
       "    }\n",
       "\n",
       "    .dataframe tbody tr th {\n",
       "        vertical-align: top;\n",
       "    }\n",
       "\n",
       "    .dataframe thead th {\n",
       "        text-align: right;\n",
       "    }\n",
       "</style>\n",
       "<table border=\"1\" class=\"dataframe\">\n",
       "  <thead>\n",
       "    <tr style=\"text-align: right;\">\n",
       "      <th></th>\n",
       "      <th>bed</th>\n",
       "      <th>bath</th>\n",
       "      <th>sqft</th>\n",
       "      <th>assessed_worth</th>\n",
       "      <th>county</th>\n",
       "      <th>date</th>\n",
       "      <th>scaled_bed</th>\n",
       "      <th>scaled_sqft</th>\n",
       "    </tr>\n",
       "  </thead>\n",
       "  <tbody>\n",
       "    <tr>\n",
       "      <th>0</th>\n",
       "      <td>4</td>\n",
       "      <td>3.5</td>\n",
       "      <td>3100.0</td>\n",
       "      <td>1023282.0</td>\n",
       "      <td>Orange</td>\n",
       "      <td>2017-01-01</td>\n",
       "      <td>0.285714</td>\n",
       "      <td>0.136324</td>\n",
       "    </tr>\n",
       "    <tr>\n",
       "      <th>1</th>\n",
       "      <td>2</td>\n",
       "      <td>1.0</td>\n",
       "      <td>1465.0</td>\n",
       "      <td>464000.0</td>\n",
       "      <td>Ventura</td>\n",
       "      <td>2017-01-01</td>\n",
       "      <td>0.142857</td>\n",
       "      <td>0.061327</td>\n",
       "    </tr>\n",
       "    <tr>\n",
       "      <th>2</th>\n",
       "      <td>3</td>\n",
       "      <td>2.0</td>\n",
       "      <td>1243.0</td>\n",
       "      <td>564778.0</td>\n",
       "      <td>Orange</td>\n",
       "      <td>2017-01-01</td>\n",
       "      <td>0.214286</td>\n",
       "      <td>0.051144</td>\n",
       "    </tr>\n",
       "    <tr>\n",
       "      <th>3</th>\n",
       "      <td>4</td>\n",
       "      <td>3.0</td>\n",
       "      <td>2376.0</td>\n",
       "      <td>145143.0</td>\n",
       "      <td>LA</td>\n",
       "      <td>2017-01-01</td>\n",
       "      <td>0.285714</td>\n",
       "      <td>0.103115</td>\n",
       "    </tr>\n",
       "    <tr>\n",
       "      <th>4</th>\n",
       "      <td>4</td>\n",
       "      <td>3.0</td>\n",
       "      <td>2962.0</td>\n",
       "      <td>773303.0</td>\n",
       "      <td>LA</td>\n",
       "      <td>2017-01-01</td>\n",
       "      <td>0.285714</td>\n",
       "      <td>0.129994</td>\n",
       "    </tr>\n",
       "  </tbody>\n",
       "</table>\n",
       "</div>"
      ],
      "text/plain": [
       "   bed  bath    sqft  assessed_worth   county        date  scaled_bed  \\\n",
       "0    4   3.5  3100.0       1023282.0   Orange  2017-01-01    0.285714   \n",
       "1    2   1.0  1465.0        464000.0  Ventura  2017-01-01    0.142857   \n",
       "2    3   2.0  1243.0        564778.0   Orange  2017-01-01    0.214286   \n",
       "3    4   3.0  2376.0        145143.0       LA  2017-01-01    0.285714   \n",
       "4    4   3.0  2962.0        773303.0       LA  2017-01-01    0.285714   \n",
       "\n",
       "   scaled_sqft  \n",
       "0     0.136324  \n",
       "1     0.061327  \n",
       "2     0.051144  \n",
       "3     0.103115  \n",
       "4     0.129994  "
      ]
     },
     "execution_count": 336,
     "metadata": {},
     "output_type": "execute_result"
    }
   ],
   "source": [
    "df.head()"
   ]
  },
  {
   "cell_type": "markdown",
   "id": "297e61a0-1b53-4c80-a9d7-c248331f3364",
   "metadata": {},
   "source": [
    "### Step 4. Make the DBSCAN"
   ]
  },
  {
   "cell_type": "code",
   "execution_count": 342,
   "id": "aa2309e9-e78f-409a-8836-38a508f6310e",
   "metadata": {},
   "outputs": [
    {
     "data": {
      "text/plain": [
       "DBSCAN(eps=0.1, min_samples=30)"
      ]
     },
     "execution_count": 342,
     "metadata": {},
     "output_type": "execute_result"
    }
   ],
   "source": [
    "# Make the object\n",
    "dbsc = DBSCAN(eps=.1, min_samples=30)\n",
    "\n",
    "# Fit the object\n",
    "dbsc.fit(bed_sqft_scaled)"
   ]
  },
  {
   "cell_type": "markdown",
   "id": "2fed9cce-35e2-4b3c-86ac-572fb1304594",
   "metadata": {},
   "source": [
    "### Step 5. Get Labels"
   ]
  },
  {
   "cell_type": "code",
   "execution_count": 343,
   "id": "41ee6f80-690f-4273-8f8b-63683f3918d7",
   "metadata": {},
   "outputs": [
    {
     "data": {
      "text/plain": [
       "array([0, 0, 0, ..., 0, 0, 0])"
      ]
     },
     "execution_count": 343,
     "metadata": {},
     "output_type": "execute_result"
    }
   ],
   "source": [
    "# look at the labels\n",
    "dbsc.labels_"
   ]
  },
  {
   "cell_type": "markdown",
   "id": "e2d3d131-b7a1-4239-a301-3e3466a6237e",
   "metadata": {},
   "source": [
    "### Step 6. Add back to original"
   ]
  },
  {
   "cell_type": "code",
   "execution_count": 344,
   "id": "cdafcae2-d617-45b1-8e1c-87f321e48b84",
   "metadata": {},
   "outputs": [],
   "source": [
    "# Assign the cluster labels\n",
    "df['bed_sqft_labels'] = dbsc.labels_"
   ]
  },
  {
   "cell_type": "code",
   "execution_count": 345,
   "id": "6fa2c16d-9c8a-4e3c-9d89-d8870d08a24b",
   "metadata": {},
   "outputs": [
    {
     "data": {
      "text/html": [
       "<div>\n",
       "<style scoped>\n",
       "    .dataframe tbody tr th:only-of-type {\n",
       "        vertical-align: middle;\n",
       "    }\n",
       "\n",
       "    .dataframe tbody tr th {\n",
       "        vertical-align: top;\n",
       "    }\n",
       "\n",
       "    .dataframe thead th {\n",
       "        text-align: right;\n",
       "    }\n",
       "</style>\n",
       "<table border=\"1\" class=\"dataframe\">\n",
       "  <thead>\n",
       "    <tr style=\"text-align: right;\">\n",
       "      <th></th>\n",
       "      <th>bed</th>\n",
       "      <th>bath</th>\n",
       "      <th>sqft</th>\n",
       "      <th>assessed_worth</th>\n",
       "      <th>county</th>\n",
       "      <th>date</th>\n",
       "      <th>scaled_bed</th>\n",
       "      <th>scaled_sqft</th>\n",
       "      <th>bed_sqft_labels</th>\n",
       "    </tr>\n",
       "  </thead>\n",
       "  <tbody>\n",
       "    <tr>\n",
       "      <th>5078</th>\n",
       "      <td>2</td>\n",
       "      <td>2.5</td>\n",
       "      <td>1446.0</td>\n",
       "      <td>440454.0</td>\n",
       "      <td>Orange</td>\n",
       "      <td>2017-02-02</td>\n",
       "      <td>0.142857</td>\n",
       "      <td>0.060456</td>\n",
       "      <td>0</td>\n",
       "    </tr>\n",
       "    <tr>\n",
       "      <th>22956</th>\n",
       "      <td>3</td>\n",
       "      <td>2.0</td>\n",
       "      <td>1091.0</td>\n",
       "      <td>321201.0</td>\n",
       "      <td>LA</td>\n",
       "      <td>2017-05-09</td>\n",
       "      <td>0.214286</td>\n",
       "      <td>0.044172</td>\n",
       "      <td>0</td>\n",
       "    </tr>\n",
       "    <tr>\n",
       "      <th>28507</th>\n",
       "      <td>3</td>\n",
       "      <td>2.0</td>\n",
       "      <td>1365.0</td>\n",
       "      <td>54621.0</td>\n",
       "      <td>LA</td>\n",
       "      <td>2017-06-01</td>\n",
       "      <td>0.214286</td>\n",
       "      <td>0.056741</td>\n",
       "      <td>0</td>\n",
       "    </tr>\n",
       "    <tr>\n",
       "      <th>29535</th>\n",
       "      <td>5</td>\n",
       "      <td>4.5</td>\n",
       "      <td>4581.0</td>\n",
       "      <td>1157149.0</td>\n",
       "      <td>Orange</td>\n",
       "      <td>2017-06-06</td>\n",
       "      <td>0.357143</td>\n",
       "      <td>0.204257</td>\n",
       "      <td>0</td>\n",
       "    </tr>\n",
       "    <tr>\n",
       "      <th>26471</th>\n",
       "      <td>4</td>\n",
       "      <td>2.0</td>\n",
       "      <td>1960.0</td>\n",
       "      <td>101886.0</td>\n",
       "      <td>LA</td>\n",
       "      <td>2017-05-24</td>\n",
       "      <td>0.285714</td>\n",
       "      <td>0.084033</td>\n",
       "      <td>0</td>\n",
       "    </tr>\n",
       "  </tbody>\n",
       "</table>\n",
       "</div>"
      ],
      "text/plain": [
       "       bed  bath    sqft  assessed_worth  county        date  scaled_bed  \\\n",
       "5078     2   2.5  1446.0        440454.0  Orange  2017-02-02    0.142857   \n",
       "22956    3   2.0  1091.0        321201.0      LA  2017-05-09    0.214286   \n",
       "28507    3   2.0  1365.0         54621.0      LA  2017-06-01    0.214286   \n",
       "29535    5   4.5  4581.0       1157149.0  Orange  2017-06-06    0.357143   \n",
       "26471    4   2.0  1960.0        101886.0      LA  2017-05-24    0.285714   \n",
       "\n",
       "       scaled_sqft  bed_sqft_labels  \n",
       "5078      0.060456                0  \n",
       "22956     0.044172                0  \n",
       "28507     0.056741                0  \n",
       "29535     0.204257                0  \n",
       "26471     0.084033                0  "
      ]
     },
     "execution_count": 345,
     "metadata": {},
     "output_type": "execute_result"
    }
   ],
   "source": [
    "#see what this dataframe looks like\n",
    "df.sample(5)"
   ]
  },
  {
   "cell_type": "markdown",
   "id": "cfb2bd9b-5426-4c5f-82ec-424bbcedd6f9",
   "metadata": {},
   "source": [
    "### Step 7. Explore"
   ]
  },
  {
   "cell_type": "code",
   "execution_count": 346,
   "id": "d0ac1131-2700-4089-96dc-a9485a9e50f0",
   "metadata": {},
   "outputs": [
    {
     "data": {
      "text/plain": [
       " 0    52343\n",
       "-1       16\n",
       "Name: bed_sqft_labels, dtype: int64"
      ]
     },
     "execution_count": 346,
     "metadata": {},
     "output_type": "execute_result"
    }
   ],
   "source": [
    "#let's see what labels holds\n",
    "df.bed_sqft_labels.value_counts()"
   ]
  },
  {
   "cell_type": "code",
   "execution_count": 347,
   "id": "cfa9e0c4-45e4-4a00-ac6a-0bddfe151d69",
   "metadata": {},
   "outputs": [
    {
     "name": "stdout",
     "output_type": "stream",
     "text": [
      "('bed', 'sqft')\n"
     ]
    }
   ],
   "source": [
    "# looking at all possible combinations\n",
    "for combination in itertools.combinations(bed_sqft.columns, 2):\n",
    "    print(combination)"
   ]
  },
  {
   "cell_type": "code",
   "execution_count": 348,
   "id": "0e83e331-cfa5-4ac0-a670-508f8a3c0be4",
   "metadata": {},
   "outputs": [
    {
     "data": {
      "image/png": "[encoded data removed]",
      "text/plain": [
       "<Figure size 640x480 with 1 Axes>"
      ]
     },
     "metadata": {},
     "output_type": "display_data"
    }
   ],
   "source": [
    "# plot results\n",
    "for combination in itertools.combinations(bed_sqft.columns, 2):\n",
    "    sns.scatterplot(df[combination[0]], df[combination[1]], hue=df.bed_sqft_labels)\n",
    "    plt.title(f\"{combination[0]} by {combination[1]} Cluster vs. Outliers\")\n",
    "    plt.show()"
   ]
  },
  {
   "cell_type": "code",
   "execution_count": null,
   "id": "c1e2eb6f-1d4e-4436-a0fe-8e1af2441438",
   "metadata": {},
   "outputs": [],
   "source": []
  }
 ],
 "metadata": {
  "kernelspec": {
   "display_name": "Python 3 (ipykernel)",
   "language": "python",
   "name": "python3"
  },
  "language_info": {
   "codemirror_mode": {
    "name": "ipython",
    "version": 3
   },
   "file_extension": ".py",
   "mimetype": "text/x-python",
   "name": "python",
   "nbconvert_exporter": "python",
   "pygments_lexer": "ipython3",
   "version": "3.9.13"
  }
 },
 "nbformat": 4,
 "nbformat_minor": 5
}
